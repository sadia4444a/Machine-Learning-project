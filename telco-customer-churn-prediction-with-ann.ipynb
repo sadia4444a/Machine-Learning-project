{
 "cells": [
  {
   "cell_type": "code",
   "execution_count": 1,
   "id": "4a59c005",
   "metadata": {
    "_cell_guid": "b1076dfc-b9ad-4769-8c92-a6c4dae69d19",
    "_uuid": "8f2839f25d086af736a60e9eeb907d3b93b6e0e5",
    "execution": {
     "iopub.execute_input": "2023-11-02T10:59:37.288096Z",
     "iopub.status.busy": "2023-11-02T10:59:37.287635Z",
     "iopub.status.idle": "2023-11-02T10:59:37.743853Z",
     "shell.execute_reply": "2023-11-02T10:59:37.742581Z"
    },
    "papermill": {
     "duration": 0.479057,
     "end_time": "2023-11-02T10:59:37.746873",
     "exception": false,
     "start_time": "2023-11-02T10:59:37.267816",
     "status": "completed"
    },
    "tags": []
   },
   "outputs": [
    {
     "name": "stdout",
     "output_type": "stream",
     "text": [
      "/kaggle/input/telco-customer-churn/WA_Fn-UseC_-Telco-Customer-Churn.csv\n"
     ]
    }
   ],
   "source": [
    "# This Python 3 environment comes with many helpful analytics libraries installed\n",
    "# It is defined by the kaggle/python Docker image: https://github.com/kaggle/docker-python\n",
    "# For example, here's several helpful packages to load\n",
    "\n",
    "import numpy as np # linear algebra\n",
    "import pandas as pd # data processing, CSV file I/O (e.g. pd.read_csv)\n",
    "import matplotlib.pyplot as plt\n",
    "# Input data files are available in the read-only \"../input/\" directory\n",
    "# For example, running this (by clicking run or pressing Shift+Enter) will list all files under the input directory\n",
    "\n",
    "import os\n",
    "for dirname, _, filenames in os.walk('/kaggle/input'):\n",
    "    for filename in filenames:\n",
    "        print(os.path.join(dirname, filename))\n",
    "\n",
    "# You can write up to 20GB to the current directory (/kaggle/working/) that gets preserved as output when you create a version using \"Save & Run All\" \n",
    "# You can also write temporary files to /kaggle/temp/, but they won't be saved outside of the current session"
   ]
  },
  {
   "cell_type": "code",
   "execution_count": 2,
   "id": "d9cdfe01",
   "metadata": {
    "execution": {
     "iopub.execute_input": "2023-11-02T10:59:37.783561Z",
     "iopub.status.busy": "2023-11-02T10:59:37.782960Z",
     "iopub.status.idle": "2023-11-02T10:59:37.899422Z",
     "shell.execute_reply": "2023-11-02T10:59:37.898335Z"
    },
    "papermill": {
     "duration": 0.137637,
     "end_time": "2023-11-02T10:59:37.902027",
     "exception": false,
     "start_time": "2023-11-02T10:59:37.764390",
     "status": "completed"
    },
    "tags": []
   },
   "outputs": [
    {
     "data": {
      "text/html": [
       "<div>\n",
       "<style scoped>\n",
       "    .dataframe tbody tr th:only-of-type {\n",
       "        vertical-align: middle;\n",
       "    }\n",
       "\n",
       "    .dataframe tbody tr th {\n",
       "        vertical-align: top;\n",
       "    }\n",
       "\n",
       "    .dataframe thead th {\n",
       "        text-align: right;\n",
       "    }\n",
       "</style>\n",
       "<table border=\"1\" class=\"dataframe\">\n",
       "  <thead>\n",
       "    <tr style=\"text-align: right;\">\n",
       "      <th></th>\n",
       "      <th>customerID</th>\n",
       "      <th>gender</th>\n",
       "      <th>SeniorCitizen</th>\n",
       "      <th>Partner</th>\n",
       "      <th>Dependents</th>\n",
       "      <th>tenure</th>\n",
       "      <th>PhoneService</th>\n",
       "      <th>MultipleLines</th>\n",
       "      <th>InternetService</th>\n",
       "      <th>OnlineSecurity</th>\n",
       "      <th>...</th>\n",
       "      <th>DeviceProtection</th>\n",
       "      <th>TechSupport</th>\n",
       "      <th>StreamingTV</th>\n",
       "      <th>StreamingMovies</th>\n",
       "      <th>Contract</th>\n",
       "      <th>PaperlessBilling</th>\n",
       "      <th>PaymentMethod</th>\n",
       "      <th>MonthlyCharges</th>\n",
       "      <th>TotalCharges</th>\n",
       "      <th>Churn</th>\n",
       "    </tr>\n",
       "  </thead>\n",
       "  <tbody>\n",
       "    <tr>\n",
       "      <th>16</th>\n",
       "      <td>8191-XWSZG</td>\n",
       "      <td>Female</td>\n",
       "      <td>0</td>\n",
       "      <td>No</td>\n",
       "      <td>No</td>\n",
       "      <td>52</td>\n",
       "      <td>Yes</td>\n",
       "      <td>No</td>\n",
       "      <td>No</td>\n",
       "      <td>No internet service</td>\n",
       "      <td>...</td>\n",
       "      <td>No internet service</td>\n",
       "      <td>No internet service</td>\n",
       "      <td>No internet service</td>\n",
       "      <td>No internet service</td>\n",
       "      <td>One year</td>\n",
       "      <td>No</td>\n",
       "      <td>Mailed check</td>\n",
       "      <td>20.65</td>\n",
       "      <td>1022.95</td>\n",
       "      <td>No</td>\n",
       "    </tr>\n",
       "    <tr>\n",
       "      <th>2672</th>\n",
       "      <td>2150-OEGBV</td>\n",
       "      <td>Male</td>\n",
       "      <td>0</td>\n",
       "      <td>No</td>\n",
       "      <td>No</td>\n",
       "      <td>27</td>\n",
       "      <td>Yes</td>\n",
       "      <td>No</td>\n",
       "      <td>No</td>\n",
       "      <td>No internet service</td>\n",
       "      <td>...</td>\n",
       "      <td>No internet service</td>\n",
       "      <td>No internet service</td>\n",
       "      <td>No internet service</td>\n",
       "      <td>No internet service</td>\n",
       "      <td>One year</td>\n",
       "      <td>No</td>\n",
       "      <td>Bank transfer (automatic)</td>\n",
       "      <td>20.10</td>\n",
       "      <td>562.6</td>\n",
       "      <td>No</td>\n",
       "    </tr>\n",
       "    <tr>\n",
       "      <th>4928</th>\n",
       "      <td>2718-GAXQD</td>\n",
       "      <td>Female</td>\n",
       "      <td>1</td>\n",
       "      <td>Yes</td>\n",
       "      <td>Yes</td>\n",
       "      <td>4</td>\n",
       "      <td>Yes</td>\n",
       "      <td>No</td>\n",
       "      <td>DSL</td>\n",
       "      <td>No</td>\n",
       "      <td>...</td>\n",
       "      <td>No</td>\n",
       "      <td>No</td>\n",
       "      <td>No</td>\n",
       "      <td>No</td>\n",
       "      <td>Month-to-month</td>\n",
       "      <td>No</td>\n",
       "      <td>Electronic check</td>\n",
       "      <td>46.00</td>\n",
       "      <td>181.6</td>\n",
       "      <td>Yes</td>\n",
       "    </tr>\n",
       "    <tr>\n",
       "      <th>1235</th>\n",
       "      <td>1543-LLLFT</td>\n",
       "      <td>Male</td>\n",
       "      <td>1</td>\n",
       "      <td>Yes</td>\n",
       "      <td>No</td>\n",
       "      <td>61</td>\n",
       "      <td>Yes</td>\n",
       "      <td>Yes</td>\n",
       "      <td>Fiber optic</td>\n",
       "      <td>No</td>\n",
       "      <td>...</td>\n",
       "      <td>Yes</td>\n",
       "      <td>Yes</td>\n",
       "      <td>Yes</td>\n",
       "      <td>No</td>\n",
       "      <td>One year</td>\n",
       "      <td>Yes</td>\n",
       "      <td>Mailed check</td>\n",
       "      <td>98.30</td>\n",
       "      <td>6066.55</td>\n",
       "      <td>No</td>\n",
       "    </tr>\n",
       "    <tr>\n",
       "      <th>1589</th>\n",
       "      <td>7351-KYHQH</td>\n",
       "      <td>Female</td>\n",
       "      <td>1</td>\n",
       "      <td>No</td>\n",
       "      <td>No</td>\n",
       "      <td>7</td>\n",
       "      <td>Yes</td>\n",
       "      <td>No</td>\n",
       "      <td>DSL</td>\n",
       "      <td>No</td>\n",
       "      <td>...</td>\n",
       "      <td>Yes</td>\n",
       "      <td>No</td>\n",
       "      <td>Yes</td>\n",
       "      <td>No</td>\n",
       "      <td>Month-to-month</td>\n",
       "      <td>Yes</td>\n",
       "      <td>Electronic check</td>\n",
       "      <td>64.95</td>\n",
       "      <td>493.65</td>\n",
       "      <td>No</td>\n",
       "    </tr>\n",
       "  </tbody>\n",
       "</table>\n",
       "<p>5 rows × 21 columns</p>\n",
       "</div>"
      ],
      "text/plain": [
       "      customerID  gender  SeniorCitizen Partner Dependents  tenure  \\\n",
       "16    8191-XWSZG  Female              0      No         No      52   \n",
       "2672  2150-OEGBV    Male              0      No         No      27   \n",
       "4928  2718-GAXQD  Female              1     Yes        Yes       4   \n",
       "1235  1543-LLLFT    Male              1     Yes         No      61   \n",
       "1589  7351-KYHQH  Female              1      No         No       7   \n",
       "\n",
       "     PhoneService MultipleLines InternetService       OnlineSecurity  ...  \\\n",
       "16            Yes            No              No  No internet service  ...   \n",
       "2672          Yes            No              No  No internet service  ...   \n",
       "4928          Yes            No             DSL                   No  ...   \n",
       "1235          Yes           Yes     Fiber optic                   No  ...   \n",
       "1589          Yes            No             DSL                   No  ...   \n",
       "\n",
       "         DeviceProtection          TechSupport          StreamingTV  \\\n",
       "16    No internet service  No internet service  No internet service   \n",
       "2672  No internet service  No internet service  No internet service   \n",
       "4928                   No                   No                   No   \n",
       "1235                  Yes                  Yes                  Yes   \n",
       "1589                  Yes                   No                  Yes   \n",
       "\n",
       "          StreamingMovies        Contract PaperlessBilling  \\\n",
       "16    No internet service        One year               No   \n",
       "2672  No internet service        One year               No   \n",
       "4928                   No  Month-to-month               No   \n",
       "1235                   No        One year              Yes   \n",
       "1589                   No  Month-to-month              Yes   \n",
       "\n",
       "                  PaymentMethod MonthlyCharges  TotalCharges Churn  \n",
       "16                 Mailed check          20.65       1022.95    No  \n",
       "2672  Bank transfer (automatic)          20.10         562.6    No  \n",
       "4928           Electronic check          46.00         181.6   Yes  \n",
       "1235               Mailed check          98.30       6066.55    No  \n",
       "1589           Electronic check          64.95        493.65    No  \n",
       "\n",
       "[5 rows x 21 columns]"
      ]
     },
     "execution_count": 2,
     "metadata": {},
     "output_type": "execute_result"
    }
   ],
   "source": [
    "df=pd.read_csv('/kaggle/input/telco-customer-churn/WA_Fn-UseC_-Telco-Customer-Churn.csv')\n",
    "df.sample(5)"
   ]
  },
  {
   "cell_type": "code",
   "execution_count": 3,
   "id": "5feab6a4",
   "metadata": {
    "execution": {
     "iopub.execute_input": "2023-11-02T10:59:37.940601Z",
     "iopub.status.busy": "2023-11-02T10:59:37.939820Z",
     "iopub.status.idle": "2023-11-02T10:59:37.947830Z",
     "shell.execute_reply": "2023-11-02T10:59:37.946615Z"
    },
    "papermill": {
     "duration": 0.030225,
     "end_time": "2023-11-02T10:59:37.950300",
     "exception": false,
     "start_time": "2023-11-02T10:59:37.920075",
     "status": "completed"
    },
    "tags": []
   },
   "outputs": [
    {
     "data": {
      "text/plain": [
       "<bound method IndexOpsMixin.tolist of Index(['customerID', 'gender', 'SeniorCitizen', 'Partner', 'Dependents',\n",
       "       'tenure', 'PhoneService', 'MultipleLines', 'InternetService',\n",
       "       'OnlineSecurity', 'OnlineBackup', 'DeviceProtection', 'TechSupport',\n",
       "       'StreamingTV', 'StreamingMovies', 'Contract', 'PaperlessBilling',\n",
       "       'PaymentMethod', 'MonthlyCharges', 'TotalCharges', 'Churn'],\n",
       "      dtype='object')>"
      ]
     },
     "execution_count": 3,
     "metadata": {},
     "output_type": "execute_result"
    }
   ],
   "source": [
    "df.columns.tolist"
   ]
  },
  {
   "cell_type": "markdown",
   "id": "fd0d98c5",
   "metadata": {
    "papermill": {
     "duration": 0.018172,
     "end_time": "2023-11-02T10:59:37.986685",
     "exception": false,
     "start_time": "2023-11-02T10:59:37.968513",
     "status": "completed"
    },
    "tags": []
   },
   "source": [
    "**Data Exploration**"
   ]
  },
  {
   "cell_type": "code",
   "execution_count": 4,
   "id": "4c6c75ef",
   "metadata": {
    "execution": {
     "iopub.execute_input": "2023-11-02T10:59:38.025190Z",
     "iopub.status.busy": "2023-11-02T10:59:38.024673Z",
     "iopub.status.idle": "2023-11-02T10:59:38.037178Z",
     "shell.execute_reply": "2023-11-02T10:59:38.035528Z"
    },
    "papermill": {
     "duration": 0.035483,
     "end_time": "2023-11-02T10:59:38.040143",
     "exception": false,
     "start_time": "2023-11-02T10:59:38.004660",
     "status": "completed"
    },
    "tags": []
   },
   "outputs": [],
   "source": [
    "#there is no need of CustomerId  so drop it\n",
    "\n",
    "df.drop('customerID',axis='columns',inplace=True)"
   ]
  },
  {
   "cell_type": "code",
   "execution_count": 5,
   "id": "fe213c3a",
   "metadata": {
    "execution": {
     "iopub.execute_input": "2023-11-02T10:59:38.081322Z",
     "iopub.status.busy": "2023-11-02T10:59:38.080816Z",
     "iopub.status.idle": "2023-11-02T10:59:38.089361Z",
     "shell.execute_reply": "2023-11-02T10:59:38.088147Z"
    },
    "papermill": {
     "duration": 0.032649,
     "end_time": "2023-11-02T10:59:38.091976",
     "exception": false,
     "start_time": "2023-11-02T10:59:38.059327",
     "status": "completed"
    },
    "tags": []
   },
   "outputs": [
    {
     "data": {
      "text/plain": [
       "(7043, 20)"
      ]
     },
     "execution_count": 5,
     "metadata": {},
     "output_type": "execute_result"
    }
   ],
   "source": [
    "df.shape"
   ]
  },
  {
   "cell_type": "code",
   "execution_count": 6,
   "id": "809588f7",
   "metadata": {
    "execution": {
     "iopub.execute_input": "2023-11-02T10:59:38.130970Z",
     "iopub.status.busy": "2023-11-02T10:59:38.130232Z",
     "iopub.status.idle": "2023-11-02T10:59:38.139302Z",
     "shell.execute_reply": "2023-11-02T10:59:38.138157Z"
    },
    "papermill": {
     "duration": 0.031592,
     "end_time": "2023-11-02T10:59:38.141733",
     "exception": false,
     "start_time": "2023-11-02T10:59:38.110141",
     "status": "completed"
    },
    "tags": []
   },
   "outputs": [
    {
     "data": {
      "text/plain": [
       "gender               object\n",
       "SeniorCitizen         int64\n",
       "Partner              object\n",
       "Dependents           object\n",
       "tenure                int64\n",
       "PhoneService         object\n",
       "MultipleLines        object\n",
       "InternetService      object\n",
       "OnlineSecurity       object\n",
       "OnlineBackup         object\n",
       "DeviceProtection     object\n",
       "TechSupport          object\n",
       "StreamingTV          object\n",
       "StreamingMovies      object\n",
       "Contract             object\n",
       "PaperlessBilling     object\n",
       "PaymentMethod        object\n",
       "MonthlyCharges      float64\n",
       "TotalCharges         object\n",
       "Churn                object\n",
       "dtype: object"
      ]
     },
     "execution_count": 6,
     "metadata": {},
     "output_type": "execute_result"
    }
   ],
   "source": [
    "df.dtypes\n"
   ]
  },
  {
   "cell_type": "code",
   "execution_count": 7,
   "id": "ef12cd88",
   "metadata": {
    "execution": {
     "iopub.execute_input": "2023-11-02T10:59:38.182459Z",
     "iopub.status.busy": "2023-11-02T10:59:38.181636Z",
     "iopub.status.idle": "2023-11-02T10:59:38.218854Z",
     "shell.execute_reply": "2023-11-02T10:59:38.217834Z"
    },
    "papermill": {
     "duration": 0.060773,
     "end_time": "2023-11-02T10:59:38.222037",
     "exception": false,
     "start_time": "2023-11-02T10:59:38.161264",
     "status": "completed"
    },
    "tags": []
   },
   "outputs": [
    {
     "name": "stdout",
     "output_type": "stream",
     "text": [
      "<class 'pandas.core.frame.DataFrame'>\n",
      "RangeIndex: 7043 entries, 0 to 7042\n",
      "Data columns (total 20 columns):\n",
      " #   Column            Non-Null Count  Dtype  \n",
      "---  ------            --------------  -----  \n",
      " 0   gender            7043 non-null   object \n",
      " 1   SeniorCitizen     7043 non-null   int64  \n",
      " 2   Partner           7043 non-null   object \n",
      " 3   Dependents        7043 non-null   object \n",
      " 4   tenure            7043 non-null   int64  \n",
      " 5   PhoneService      7043 non-null   object \n",
      " 6   MultipleLines     7043 non-null   object \n",
      " 7   InternetService   7043 non-null   object \n",
      " 8   OnlineSecurity    7043 non-null   object \n",
      " 9   OnlineBackup      7043 non-null   object \n",
      " 10  DeviceProtection  7043 non-null   object \n",
      " 11  TechSupport       7043 non-null   object \n",
      " 12  StreamingTV       7043 non-null   object \n",
      " 13  StreamingMovies   7043 non-null   object \n",
      " 14  Contract          7043 non-null   object \n",
      " 15  PaperlessBilling  7043 non-null   object \n",
      " 16  PaymentMethod     7043 non-null   object \n",
      " 17  MonthlyCharges    7043 non-null   float64\n",
      " 18  TotalCharges      7043 non-null   object \n",
      " 19  Churn             7043 non-null   object \n",
      "dtypes: float64(1), int64(2), object(17)\n",
      "memory usage: 1.1+ MB\n"
     ]
    }
   ],
   "source": [
    "df.info()"
   ]
  },
  {
   "cell_type": "markdown",
   "id": "34ad609a",
   "metadata": {
    "papermill": {
     "duration": 0.018734,
     "end_time": "2023-11-02T10:59:38.259385",
     "exception": false,
     "start_time": "2023-11-02T10:59:38.240651",
     "status": "completed"
    },
    "tags": []
   },
   "source": [
    "there is some space in TotalCharges column..basicaily it's null\n",
    "need to drop those samples"
   ]
  },
  {
   "cell_type": "code",
   "execution_count": 8,
   "id": "f89ce220",
   "metadata": {
    "execution": {
     "iopub.execute_input": "2023-11-02T10:59:38.299525Z",
     "iopub.status.busy": "2023-11-02T10:59:38.298736Z",
     "iopub.status.idle": "2023-11-02T10:59:38.307245Z",
     "shell.execute_reply": "2023-11-02T10:59:38.306362Z"
    },
    "papermill": {
     "duration": 0.031867,
     "end_time": "2023-11-02T10:59:38.309665",
     "exception": false,
     "start_time": "2023-11-02T10:59:38.277798",
     "status": "completed"
    },
    "tags": []
   },
   "outputs": [
    {
     "data": {
      "text/plain": [
       "gender                                 Female\n",
       "SeniorCitizen                               0\n",
       "Partner                                   Yes\n",
       "Dependents                                Yes\n",
       "tenure                                      0\n",
       "PhoneService                               No\n",
       "MultipleLines                No phone service\n",
       "InternetService                           DSL\n",
       "OnlineSecurity                            Yes\n",
       "OnlineBackup                               No\n",
       "DeviceProtection                          Yes\n",
       "TechSupport                               Yes\n",
       "StreamingTV                               Yes\n",
       "StreamingMovies                            No\n",
       "Contract                             Two year\n",
       "PaperlessBilling                          Yes\n",
       "PaymentMethod       Bank transfer (automatic)\n",
       "MonthlyCharges                          52.55\n",
       "TotalCharges                                 \n",
       "Churn                                      No\n",
       "Name: 488, dtype: object"
      ]
     },
     "execution_count": 8,
     "metadata": {},
     "output_type": "execute_result"
    }
   ],
   "source": [
    "df.iloc[488]"
   ]
  },
  {
   "cell_type": "code",
   "execution_count": 9,
   "id": "6ef6eb66",
   "metadata": {
    "execution": {
     "iopub.execute_input": "2023-11-02T10:59:38.350143Z",
     "iopub.status.busy": "2023-11-02T10:59:38.349373Z",
     "iopub.status.idle": "2023-11-02T10:59:38.362725Z",
     "shell.execute_reply": "2023-11-02T10:59:38.361527Z"
    },
    "papermill": {
     "duration": 0.03671,
     "end_time": "2023-11-02T10:59:38.365285",
     "exception": false,
     "start_time": "2023-11-02T10:59:38.328575",
     "status": "completed"
    },
    "tags": []
   },
   "outputs": [
    {
     "data": {
      "text/plain": [
       "(11, 20)"
      ]
     },
     "execution_count": 9,
     "metadata": {},
     "output_type": "execute_result"
    }
   ],
   "source": [
    "df[pd.to_numeric(df.TotalCharges,errors='coerce').isnull()].shape"
   ]
  },
  {
   "cell_type": "code",
   "execution_count": 10,
   "id": "51d9fccc",
   "metadata": {
    "execution": {
     "iopub.execute_input": "2023-11-02T10:59:38.488843Z",
     "iopub.status.busy": "2023-11-02T10:59:38.488080Z",
     "iopub.status.idle": "2023-11-02T10:59:38.499952Z",
     "shell.execute_reply": "2023-11-02T10:59:38.498552Z"
    },
    "papermill": {
     "duration": 0.118507,
     "end_time": "2023-11-02T10:59:38.502955",
     "exception": false,
     "start_time": "2023-11-02T10:59:38.384448",
     "status": "completed"
    },
    "tags": []
   },
   "outputs": [
    {
     "data": {
      "text/plain": [
       "(7032, 20)"
      ]
     },
     "execution_count": 10,
     "metadata": {},
     "output_type": "execute_result"
    }
   ],
   "source": [
    "#let's drop this null values\n",
    "\n",
    "df1=df[df.TotalCharges!=' ']\n",
    "\n",
    "df1.shape"
   ]
  },
  {
   "cell_type": "code",
   "execution_count": 11,
   "id": "c891c17d",
   "metadata": {
    "execution": {
     "iopub.execute_input": "2023-11-02T10:59:38.544112Z",
     "iopub.status.busy": "2023-11-02T10:59:38.543267Z",
     "iopub.status.idle": "2023-11-02T10:59:38.564867Z",
     "shell.execute_reply": "2023-11-02T10:59:38.563635Z"
    },
    "papermill": {
     "duration": 0.045273,
     "end_time": "2023-11-02T10:59:38.567466",
     "exception": false,
     "start_time": "2023-11-02T10:59:38.522193",
     "status": "completed"
    },
    "tags": []
   },
   "outputs": [
    {
     "data": {
      "text/html": [
       "<div>\n",
       "<style scoped>\n",
       "    .dataframe tbody tr th:only-of-type {\n",
       "        vertical-align: middle;\n",
       "    }\n",
       "\n",
       "    .dataframe tbody tr th {\n",
       "        vertical-align: top;\n",
       "    }\n",
       "\n",
       "    .dataframe thead th {\n",
       "        text-align: right;\n",
       "    }\n",
       "</style>\n",
       "<table border=\"1\" class=\"dataframe\">\n",
       "  <thead>\n",
       "    <tr style=\"text-align: right;\">\n",
       "      <th></th>\n",
       "      <th>gender</th>\n",
       "      <th>SeniorCitizen</th>\n",
       "      <th>Partner</th>\n",
       "      <th>Dependents</th>\n",
       "      <th>tenure</th>\n",
       "      <th>PhoneService</th>\n",
       "      <th>MultipleLines</th>\n",
       "      <th>InternetService</th>\n",
       "      <th>OnlineSecurity</th>\n",
       "      <th>OnlineBackup</th>\n",
       "      <th>DeviceProtection</th>\n",
       "      <th>TechSupport</th>\n",
       "      <th>StreamingTV</th>\n",
       "      <th>StreamingMovies</th>\n",
       "      <th>Contract</th>\n",
       "      <th>PaperlessBilling</th>\n",
       "      <th>PaymentMethod</th>\n",
       "      <th>MonthlyCharges</th>\n",
       "      <th>TotalCharges</th>\n",
       "      <th>Churn</th>\n",
       "    </tr>\n",
       "  </thead>\n",
       "  <tbody>\n",
       "  </tbody>\n",
       "</table>\n",
       "</div>"
      ],
      "text/plain": [
       "Empty DataFrame\n",
       "Columns: [gender, SeniorCitizen, Partner, Dependents, tenure, PhoneService, MultipleLines, InternetService, OnlineSecurity, OnlineBackup, DeviceProtection, TechSupport, StreamingTV, StreamingMovies, Contract, PaperlessBilling, PaymentMethod, MonthlyCharges, TotalCharges, Churn]\n",
       "Index: []"
      ]
     },
     "execution_count": 11,
     "metadata": {},
     "output_type": "execute_result"
    }
   ],
   "source": [
    "df1[pd.to_numeric(df1.TotalCharges,errors='coerce').isnull()]"
   ]
  },
  {
   "cell_type": "code",
   "execution_count": 12,
   "id": "8c4ff709",
   "metadata": {
    "execution": {
     "iopub.execute_input": "2023-11-02T10:59:38.608593Z",
     "iopub.status.busy": "2023-11-02T10:59:38.608140Z",
     "iopub.status.idle": "2023-11-02T10:59:38.617521Z",
     "shell.execute_reply": "2023-11-02T10:59:38.616504Z"
    },
    "papermill": {
     "duration": 0.03331,
     "end_time": "2023-11-02T10:59:38.620273",
     "exception": false,
     "start_time": "2023-11-02T10:59:38.586963",
     "status": "completed"
    },
    "tags": []
   },
   "outputs": [
    {
     "data": {
      "text/plain": [
       "gender               object\n",
       "SeniorCitizen         int64\n",
       "Partner              object\n",
       "Dependents           object\n",
       "tenure                int64\n",
       "PhoneService         object\n",
       "MultipleLines        object\n",
       "InternetService      object\n",
       "OnlineSecurity       object\n",
       "OnlineBackup         object\n",
       "DeviceProtection     object\n",
       "TechSupport          object\n",
       "StreamingTV          object\n",
       "StreamingMovies      object\n",
       "Contract             object\n",
       "PaperlessBilling     object\n",
       "PaymentMethod        object\n",
       "MonthlyCharges      float64\n",
       "TotalCharges         object\n",
       "Churn                object\n",
       "dtype: object"
      ]
     },
     "execution_count": 12,
     "metadata": {},
     "output_type": "execute_result"
    }
   ],
   "source": [
    "\n",
    "df1.dtypes"
   ]
  },
  {
   "cell_type": "code",
   "execution_count": 13,
   "id": "f90ea557",
   "metadata": {
    "execution": {
     "iopub.execute_input": "2023-11-02T10:59:38.662663Z",
     "iopub.status.busy": "2023-11-02T10:59:38.662207Z",
     "iopub.status.idle": "2023-11-02T10:59:38.676845Z",
     "shell.execute_reply": "2023-11-02T10:59:38.675509Z"
    },
    "papermill": {
     "duration": 0.038925,
     "end_time": "2023-11-02T10:59:38.679568",
     "exception": false,
     "start_time": "2023-11-02T10:59:38.640643",
     "status": "completed"
    },
    "tags": []
   },
   "outputs": [
    {
     "data": {
      "text/plain": [
       "0        1\n",
       "1       34\n",
       "3       45\n",
       "6       22\n",
       "7       10\n",
       "        ..\n",
       "7037    72\n",
       "7038    24\n",
       "7039    72\n",
       "7040    11\n",
       "7042    66\n",
       "Name: tenure, Length: 5163, dtype: int64"
      ]
     },
     "execution_count": 13,
     "metadata": {},
     "output_type": "execute_result"
    }
   ],
   "source": [
    "#tenure \n",
    "\n",
    "df1[df1.Churn=='No'].tenure"
   ]
  },
  {
   "cell_type": "code",
   "execution_count": 14,
   "id": "7c191d88",
   "metadata": {
    "execution": {
     "iopub.execute_input": "2023-11-02T10:59:38.722973Z",
     "iopub.status.busy": "2023-11-02T10:59:38.722528Z",
     "iopub.status.idle": "2023-11-02T10:59:39.201560Z",
     "shell.execute_reply": "2023-11-02T10:59:39.200163Z"
    },
    "papermill": {
     "duration": 0.504398,
     "end_time": "2023-11-02T10:59:39.204632",
     "exception": false,
     "start_time": "2023-11-02T10:59:38.700234",
     "status": "completed"
    },
    "tags": []
   },
   "outputs": [
    {
     "data": {
      "text/plain": [
       "<matplotlib.legend.Legend at 0x7eb1d9a6d780>"
      ]
     },
     "execution_count": 14,
     "metadata": {},
     "output_type": "execute_result"
    },
    {
     "data": {
      "image/png": "[encoded data removed]",
      "text/plain": [
       "<Figure size 640x480 with 1 Axes>"
      ]
     },
     "metadata": {},
     "output_type": "display_data"
    }
   ],
   "source": [
    "tenure_churn_no=df1[df1.Churn=='No'].tenure\n",
    "tenure_churn_yes=df1[df1.Churn=='Yes'].tenure\n",
    "\n",
    "\n",
    "plt.xlabel('Tenure')\n",
    "plt.ylabel('Number of Customer')\n",
    "plt.title('Customer Churn Prediction visualization')\n",
    "plt.hist([tenure_churn_yes,tenure_churn_no],color=['C4','C6'],\n",
    "         label=['Churn=Yes','churn=No'])\n",
    " \n",
    "plt.legend()"
   ]
  },
  {
   "cell_type": "code",
   "execution_count": 15,
   "id": "782ef9be",
   "metadata": {
    "execution": {
     "iopub.execute_input": "2023-11-02T10:59:39.247672Z",
     "iopub.status.busy": "2023-11-02T10:59:39.247226Z",
     "iopub.status.idle": "2023-11-02T10:59:39.687373Z",
     "shell.execute_reply": "2023-11-02T10:59:39.686139Z"
    },
    "papermill": {
     "duration": 0.464997,
     "end_time": "2023-11-02T10:59:39.690104",
     "exception": false,
     "start_time": "2023-11-02T10:59:39.225107",
     "status": "completed"
    },
    "tags": []
   },
   "outputs": [
    {
     "data": {
      "text/plain": [
       "<matplotlib.legend.Legend at 0x7eb1d79791b0>"
      ]
     },
     "execution_count": 15,
     "metadata": {},
     "output_type": "execute_result"
    },
    {
     "data": {
      "image/png": "[encoded data removed]",
      "text/plain": [
       "<Figure size 640x480 with 1 Axes>"
      ]
     },
     "metadata": {},
     "output_type": "display_data"
    }
   ],
   "source": [
    "#sometime if monthly charge is high the customer Churn maybe be high\n",
    "\n",
    "mc_churn_no=df1[df1.Churn=='No'].MonthlyCharges\n",
    "mc_churn_yes=df1[df1.Churn=='Yes'].MonthlyCharges\n",
    "\n",
    "\n",
    "plt.xlabel('MonthlyCharges')\n",
    "plt.ylabel('Number of Customer')\n",
    "plt.title('Customer Churn Prediction visualization')\n",
    "plt.hist([mc_churn_yes,mc_churn_no],color=['C4','C6'],\n",
    "         label=['Churn=Yes','churn=No'])\n",
    " \n",
    "plt.legend()"
   ]
  },
  {
   "cell_type": "markdown",
   "id": "4a509e8a",
   "metadata": {
    "papermill": {
     "duration": 0.020859,
     "end_time": "2023-11-02T10:59:39.732743",
     "exception": false,
     "start_time": "2023-11-02T10:59:39.711884",
     "status": "completed"
    },
    "tags": []
   },
   "source": [
    "Lable Encoding"
   ]
  },
  {
   "cell_type": "code",
   "execution_count": 16,
   "id": "8a9ce1bb",
   "metadata": {
    "execution": {
     "iopub.execute_input": "2023-11-02T10:59:39.777244Z",
     "iopub.status.busy": "2023-11-02T10:59:39.776773Z",
     "iopub.status.idle": "2023-11-02T10:59:39.783095Z",
     "shell.execute_reply": "2023-11-02T10:59:39.781896Z"
    },
    "papermill": {
     "duration": 0.031689,
     "end_time": "2023-11-02T10:59:39.785582",
     "exception": false,
     "start_time": "2023-11-02T10:59:39.753893",
     "status": "completed"
    },
    "tags": []
   },
   "outputs": [],
   "source": [
    "def print_unique_col_values(df1):\n",
    "    for column in df1:\n",
    "        if df1[column].dtypes=='object':\n",
    "            print(f'{column}:{df1[column].unique()}')"
   ]
  },
  {
   "cell_type": "code",
   "execution_count": 17,
   "id": "dba9cc11",
   "metadata": {
    "execution": {
     "iopub.execute_input": "2023-11-02T10:59:39.830953Z",
     "iopub.status.busy": "2023-11-02T10:59:39.830479Z",
     "iopub.status.idle": "2023-11-02T10:59:39.851735Z",
     "shell.execute_reply": "2023-11-02T10:59:39.850404Z"
    },
    "papermill": {
     "duration": 0.047536,
     "end_time": "2023-11-02T10:59:39.854656",
     "exception": false,
     "start_time": "2023-11-02T10:59:39.807120",
     "status": "completed"
    },
    "tags": []
   },
   "outputs": [
    {
     "name": "stdout",
     "output_type": "stream",
     "text": [
      "gender:['Female' 'Male']\n",
      "Partner:['Yes' 'No']\n",
      "Dependents:['No' 'Yes']\n",
      "PhoneService:['No' 'Yes']\n",
      "MultipleLines:['No phone service' 'No' 'Yes']\n",
      "InternetService:['DSL' 'Fiber optic' 'No']\n",
      "OnlineSecurity:['No' 'Yes' 'No internet service']\n",
      "OnlineBackup:['Yes' 'No' 'No internet service']\n",
      "DeviceProtection:['No' 'Yes' 'No internet service']\n",
      "TechSupport:['No' 'Yes' 'No internet service']\n",
      "StreamingTV:['No' 'Yes' 'No internet service']\n",
      "StreamingMovies:['No' 'Yes' 'No internet service']\n",
      "Contract:['Month-to-month' 'One year' 'Two year']\n",
      "PaperlessBilling:['Yes' 'No']\n",
      "PaymentMethod:['Electronic check' 'Mailed check' 'Bank transfer (automatic)'\n",
      " 'Credit card (automatic)']\n",
      "TotalCharges:['29.85' '1889.5' '108.15' ... '346.45' '306.6' '6844.5']\n",
      "Churn:['No' 'Yes']\n"
     ]
    }
   ],
   "source": [
    "print_unique_col_values(df1)"
   ]
  },
  {
   "cell_type": "code",
   "execution_count": 18,
   "id": "1c9a3e0f",
   "metadata": {
    "execution": {
     "iopub.execute_input": "2023-11-02T10:59:39.899965Z",
     "iopub.status.busy": "2023-11-02T10:59:39.899477Z",
     "iopub.status.idle": "2023-11-02T10:59:39.949432Z",
     "shell.execute_reply": "2023-11-02T10:59:39.948144Z"
    },
    "papermill": {
     "duration": 0.075821,
     "end_time": "2023-11-02T10:59:39.952045",
     "exception": false,
     "start_time": "2023-11-02T10:59:39.876224",
     "status": "completed"
    },
    "tags": []
   },
   "outputs": [
    {
     "name": "stderr",
     "output_type": "stream",
     "text": [
      "/tmp/ipykernel_21/3548723037.py:3: SettingWithCopyWarning: \n",
      "A value is trying to be set on a copy of a slice from a DataFrame\n",
      "\n",
      "See the caveats in the documentation: https://pandas.pydata.org/pandas-docs/stable/user_guide/indexing.html#returning-a-view-versus-a-copy\n",
      "  df1.replace('No internet service','No',inplace=True)\n",
      "/tmp/ipykernel_21/3548723037.py:4: SettingWithCopyWarning: \n",
      "A value is trying to be set on a copy of a slice from a DataFrame\n",
      "\n",
      "See the caveats in the documentation: https://pandas.pydata.org/pandas-docs/stable/user_guide/indexing.html#returning-a-view-versus-a-copy\n",
      "  df1.replace('No phone service','No',inplace=True)\n"
     ]
    }
   ],
   "source": [
    "#No internet service just mean No ,so we can replace it with just No\n",
    "#also No phone service\n",
    "df1.replace('No internet service','No',inplace=True)\n",
    "df1.replace('No phone service','No',inplace=True)"
   ]
  },
  {
   "cell_type": "code",
   "execution_count": 19,
   "id": "ccdcbc35",
   "metadata": {
    "execution": {
     "iopub.execute_input": "2023-11-02T10:59:39.997759Z",
     "iopub.status.busy": "2023-11-02T10:59:39.997285Z",
     "iopub.status.idle": "2023-11-02T10:59:40.019604Z",
     "shell.execute_reply": "2023-11-02T10:59:40.017628Z"
    },
    "papermill": {
     "duration": 0.048624,
     "end_time": "2023-11-02T10:59:40.022303",
     "exception": false,
     "start_time": "2023-11-02T10:59:39.973679",
     "status": "completed"
    },
    "tags": []
   },
   "outputs": [
    {
     "name": "stdout",
     "output_type": "stream",
     "text": [
      "gender:['Female' 'Male']\n",
      "Partner:['Yes' 'No']\n",
      "Dependents:['No' 'Yes']\n",
      "PhoneService:['No' 'Yes']\n",
      "MultipleLines:['No' 'Yes']\n",
      "InternetService:['DSL' 'Fiber optic' 'No']\n",
      "OnlineSecurity:['No' 'Yes']\n",
      "OnlineBackup:['Yes' 'No']\n",
      "DeviceProtection:['No' 'Yes']\n",
      "TechSupport:['No' 'Yes']\n",
      "StreamingTV:['No' 'Yes']\n",
      "StreamingMovies:['No' 'Yes']\n",
      "Contract:['Month-to-month' 'One year' 'Two year']\n",
      "PaperlessBilling:['Yes' 'No']\n",
      "PaymentMethod:['Electronic check' 'Mailed check' 'Bank transfer (automatic)'\n",
      " 'Credit card (automatic)']\n",
      "TotalCharges:['29.85' '1889.5' '108.15' ... '346.45' '306.6' '6844.5']\n",
      "Churn:['No' 'Yes']\n"
     ]
    }
   ],
   "source": [
    "print_unique_col_values(df1)"
   ]
  },
  {
   "cell_type": "code",
   "execution_count": 20,
   "id": "fefa7e61",
   "metadata": {
    "execution": {
     "iopub.execute_input": "2023-11-02T10:59:40.067651Z",
     "iopub.status.busy": "2023-11-02T10:59:40.067160Z",
     "iopub.status.idle": "2023-11-02T10:59:40.147955Z",
     "shell.execute_reply": "2023-11-02T10:59:40.146619Z"
    },
    "papermill": {
     "duration": 0.107232,
     "end_time": "2023-11-02T10:59:40.151232",
     "exception": false,
     "start_time": "2023-11-02T10:59:40.044000",
     "status": "completed"
    },
    "tags": []
   },
   "outputs": [
    {
     "name": "stderr",
     "output_type": "stream",
     "text": [
      "/tmp/ipykernel_21/4005596517.py:12: SettingWithCopyWarning: \n",
      "A value is trying to be set on a copy of a slice from a DataFrame\n",
      "\n",
      "See the caveats in the documentation: https://pandas.pydata.org/pandas-docs/stable/user_guide/indexing.html#returning-a-view-versus-a-copy\n",
      "  df1[col].replace({'Yes':1,'No':0},inplace=True)\n"
     ]
    }
   ],
   "source": [
    "#We all Know machine learning models do not understand text so we have to convert\n",
    "#every text or string type of columns to number\n",
    "\n",
    "#let's covert each yes and no with one and no\n",
    "\n",
    "yes_no_columns =['Partner','Dependents','PhoneService',\n",
    "                 'MultipleLines','OnlineSecurity','OnlineBackup','DeviceProtection',\n",
    "                 'TechSupport','StreamingTV','StreamingMovies','PaperlessBilling',\n",
    "                 'Churn']\n",
    "\n",
    "for col in yes_no_columns:\n",
    "    df1[col].replace({'Yes':1,'No':0},inplace=True)"
   ]
  },
  {
   "cell_type": "code",
   "execution_count": 21,
   "id": "6b020801",
   "metadata": {
    "execution": {
     "iopub.execute_input": "2023-11-02T10:59:40.197316Z",
     "iopub.status.busy": "2023-11-02T10:59:40.196842Z",
     "iopub.status.idle": "2023-11-02T10:59:40.211445Z",
     "shell.execute_reply": "2023-11-02T10:59:40.210174Z"
    },
    "papermill": {
     "duration": 0.041124,
     "end_time": "2023-11-02T10:59:40.214465",
     "exception": false,
     "start_time": "2023-11-02T10:59:40.173341",
     "status": "completed"
    },
    "tags": []
   },
   "outputs": [
    {
     "name": "stderr",
     "output_type": "stream",
     "text": [
      "/tmp/ipykernel_21/698335744.py:1: SettingWithCopyWarning: \n",
      "A value is trying to be set on a copy of a slice from a DataFrame\n",
      "\n",
      "See the caveats in the documentation: https://pandas.pydata.org/pandas-docs/stable/user_guide/indexing.html#returning-a-view-versus-a-copy\n",
      "  df1['gender'].replace({'Female':1,'Male':0},inplace=True)\n"
     ]
    }
   ],
   "source": [
    "df1['gender'].replace({'Female':1,'Male':0},inplace=True)"
   ]
  },
  {
   "cell_type": "code",
   "execution_count": 22,
   "id": "3620e22f",
   "metadata": {
    "execution": {
     "iopub.execute_input": "2023-11-02T10:59:40.260232Z",
     "iopub.status.busy": "2023-11-02T10:59:40.259740Z",
     "iopub.status.idle": "2023-11-02T10:59:40.280746Z",
     "shell.execute_reply": "2023-11-02T10:59:40.279778Z"
    },
    "papermill": {
     "duration": 0.046908,
     "end_time": "2023-11-02T10:59:40.283196",
     "exception": false,
     "start_time": "2023-11-02T10:59:40.236288",
     "status": "completed"
    },
    "tags": []
   },
   "outputs": [
    {
     "data": {
      "text/plain": [
       "Index(['gender', 'SeniorCitizen', 'Partner', 'Dependents', 'tenure',\n",
       "       'PhoneService', 'MultipleLines', 'OnlineSecurity', 'OnlineBackup',\n",
       "       'DeviceProtection', 'TechSupport', 'StreamingTV', 'StreamingMovies',\n",
       "       'PaperlessBilling', 'MonthlyCharges', 'TotalCharges', 'Churn',\n",
       "       'InternetService_DSL', 'InternetService_Fiber optic',\n",
       "       'InternetService_No', 'Contract_Month-to-month', 'Contract_One year',\n",
       "       'Contract_Two year', 'PaymentMethod_Bank transfer (automatic)',\n",
       "       'PaymentMethod_Credit card (automatic)',\n",
       "       'PaymentMethod_Electronic check', 'PaymentMethod_Mailed check'],\n",
       "      dtype='object')"
      ]
     },
     "execution_count": 22,
     "metadata": {},
     "output_type": "execute_result"
    }
   ],
   "source": [
    "#create dummy columns after oneHotencodein\n",
    "\n",
    "df2=pd.get_dummies(data=df1,columns=['InternetService','Contract','PaymentMethod'],dtype=float)\n",
    "\n",
    "df2.columns"
   ]
  },
  {
   "cell_type": "code",
   "execution_count": 23,
   "id": "b679ab31",
   "metadata": {
    "execution": {
     "iopub.execute_input": "2023-11-02T10:59:40.330379Z",
     "iopub.status.busy": "2023-11-02T10:59:40.329888Z",
     "iopub.status.idle": "2023-11-02T10:59:40.363026Z",
     "shell.execute_reply": "2023-11-02T10:59:40.362091Z"
    },
    "papermill": {
     "duration": 0.059943,
     "end_time": "2023-11-02T10:59:40.365726",
     "exception": false,
     "start_time": "2023-11-02T10:59:40.305783",
     "status": "completed"
    },
    "tags": []
   },
   "outputs": [
    {
     "data": {
      "text/html": [
       "<div>\n",
       "<style scoped>\n",
       "    .dataframe tbody tr th:only-of-type {\n",
       "        vertical-align: middle;\n",
       "    }\n",
       "\n",
       "    .dataframe tbody tr th {\n",
       "        vertical-align: top;\n",
       "    }\n",
       "\n",
       "    .dataframe thead th {\n",
       "        text-align: right;\n",
       "    }\n",
       "</style>\n",
       "<table border=\"1\" class=\"dataframe\">\n",
       "  <thead>\n",
       "    <tr style=\"text-align: right;\">\n",
       "      <th></th>\n",
       "      <th>gender</th>\n",
       "      <th>SeniorCitizen</th>\n",
       "      <th>Partner</th>\n",
       "      <th>Dependents</th>\n",
       "      <th>tenure</th>\n",
       "      <th>PhoneService</th>\n",
       "      <th>MultipleLines</th>\n",
       "      <th>OnlineSecurity</th>\n",
       "      <th>OnlineBackup</th>\n",
       "      <th>DeviceProtection</th>\n",
       "      <th>...</th>\n",
       "      <th>InternetService_DSL</th>\n",
       "      <th>InternetService_Fiber optic</th>\n",
       "      <th>InternetService_No</th>\n",
       "      <th>Contract_Month-to-month</th>\n",
       "      <th>Contract_One year</th>\n",
       "      <th>Contract_Two year</th>\n",
       "      <th>PaymentMethod_Bank transfer (automatic)</th>\n",
       "      <th>PaymentMethod_Credit card (automatic)</th>\n",
       "      <th>PaymentMethod_Electronic check</th>\n",
       "      <th>PaymentMethod_Mailed check</th>\n",
       "    </tr>\n",
       "  </thead>\n",
       "  <tbody>\n",
       "    <tr>\n",
       "      <th>914</th>\n",
       "      <td>0</td>\n",
       "      <td>0</td>\n",
       "      <td>1</td>\n",
       "      <td>1</td>\n",
       "      <td>72</td>\n",
       "      <td>1</td>\n",
       "      <td>1</td>\n",
       "      <td>0</td>\n",
       "      <td>0</td>\n",
       "      <td>0</td>\n",
       "      <td>...</td>\n",
       "      <td>0.0</td>\n",
       "      <td>0.0</td>\n",
       "      <td>1.0</td>\n",
       "      <td>0.0</td>\n",
       "      <td>0.0</td>\n",
       "      <td>1.0</td>\n",
       "      <td>1.0</td>\n",
       "      <td>0.0</td>\n",
       "      <td>0.0</td>\n",
       "      <td>0.0</td>\n",
       "    </tr>\n",
       "    <tr>\n",
       "      <th>1269</th>\n",
       "      <td>0</td>\n",
       "      <td>0</td>\n",
       "      <td>1</td>\n",
       "      <td>1</td>\n",
       "      <td>62</td>\n",
       "      <td>1</td>\n",
       "      <td>1</td>\n",
       "      <td>1</td>\n",
       "      <td>1</td>\n",
       "      <td>1</td>\n",
       "      <td>...</td>\n",
       "      <td>0.0</td>\n",
       "      <td>1.0</td>\n",
       "      <td>0.0</td>\n",
       "      <td>0.0</td>\n",
       "      <td>0.0</td>\n",
       "      <td>1.0</td>\n",
       "      <td>1.0</td>\n",
       "      <td>0.0</td>\n",
       "      <td>0.0</td>\n",
       "      <td>0.0</td>\n",
       "    </tr>\n",
       "    <tr>\n",
       "      <th>5222</th>\n",
       "      <td>1</td>\n",
       "      <td>0</td>\n",
       "      <td>0</td>\n",
       "      <td>0</td>\n",
       "      <td>8</td>\n",
       "      <td>1</td>\n",
       "      <td>1</td>\n",
       "      <td>1</td>\n",
       "      <td>1</td>\n",
       "      <td>1</td>\n",
       "      <td>...</td>\n",
       "      <td>1.0</td>\n",
       "      <td>0.0</td>\n",
       "      <td>0.0</td>\n",
       "      <td>1.0</td>\n",
       "      <td>0.0</td>\n",
       "      <td>0.0</td>\n",
       "      <td>1.0</td>\n",
       "      <td>0.0</td>\n",
       "      <td>0.0</td>\n",
       "      <td>0.0</td>\n",
       "    </tr>\n",
       "    <tr>\n",
       "      <th>3677</th>\n",
       "      <td>1</td>\n",
       "      <td>0</td>\n",
       "      <td>0</td>\n",
       "      <td>0</td>\n",
       "      <td>1</td>\n",
       "      <td>0</td>\n",
       "      <td>0</td>\n",
       "      <td>0</td>\n",
       "      <td>0</td>\n",
       "      <td>0</td>\n",
       "      <td>...</td>\n",
       "      <td>1.0</td>\n",
       "      <td>0.0</td>\n",
       "      <td>0.0</td>\n",
       "      <td>1.0</td>\n",
       "      <td>0.0</td>\n",
       "      <td>0.0</td>\n",
       "      <td>0.0</td>\n",
       "      <td>0.0</td>\n",
       "      <td>0.0</td>\n",
       "      <td>1.0</td>\n",
       "    </tr>\n",
       "  </tbody>\n",
       "</table>\n",
       "<p>4 rows × 27 columns</p>\n",
       "</div>"
      ],
      "text/plain": [
       "      gender  SeniorCitizen  Partner  Dependents  tenure  PhoneService  \\\n",
       "914        0              0        1           1      72             1   \n",
       "1269       0              0        1           1      62             1   \n",
       "5222       1              0        0           0       8             1   \n",
       "3677       1              0        0           0       1             0   \n",
       "\n",
       "      MultipleLines  OnlineSecurity  OnlineBackup  DeviceProtection  ...  \\\n",
       "914               1               0             0                 0  ...   \n",
       "1269              1               1             1                 1  ...   \n",
       "5222              1               1             1                 1  ...   \n",
       "3677              0               0             0                 0  ...   \n",
       "\n",
       "      InternetService_DSL  InternetService_Fiber optic  InternetService_No  \\\n",
       "914                   0.0                          0.0                 1.0   \n",
       "1269                  0.0                          1.0                 0.0   \n",
       "5222                  1.0                          0.0                 0.0   \n",
       "3677                  1.0                          0.0                 0.0   \n",
       "\n",
       "      Contract_Month-to-month  Contract_One year Contract_Two year  \\\n",
       "914                       0.0                0.0               1.0   \n",
       "1269                      0.0                0.0               1.0   \n",
       "5222                      1.0                0.0               0.0   \n",
       "3677                      1.0                0.0               0.0   \n",
       "\n",
       "      PaymentMethod_Bank transfer (automatic)  \\\n",
       "914                                       1.0   \n",
       "1269                                      1.0   \n",
       "5222                                      1.0   \n",
       "3677                                      0.0   \n",
       "\n",
       "      PaymentMethod_Credit card (automatic)  PaymentMethod_Electronic check  \\\n",
       "914                                     0.0                             0.0   \n",
       "1269                                    0.0                             0.0   \n",
       "5222                                    0.0                             0.0   \n",
       "3677                                    0.0                             0.0   \n",
       "\n",
       "      PaymentMethod_Mailed check  \n",
       "914                          0.0  \n",
       "1269                         0.0  \n",
       "5222                         0.0  \n",
       "3677                         1.0  \n",
       "\n",
       "[4 rows x 27 columns]"
      ]
     },
     "execution_count": 23,
     "metadata": {},
     "output_type": "execute_result"
    }
   ],
   "source": [
    "df2.sample(4)"
   ]
  },
  {
   "cell_type": "markdown",
   "id": "fdfe1830",
   "metadata": {
    "papermill": {
     "duration": 0.022338,
     "end_time": "2023-11-02T10:59:40.411834",
     "exception": false,
     "start_time": "2023-11-02T10:59:40.389496",
     "status": "completed"
    },
    "tags": []
   },
   "source": [
    "scaling data..Firstly figure out which columns we need to scale"
   ]
  },
  {
   "cell_type": "code",
   "execution_count": 24,
   "id": "70592e04",
   "metadata": {
    "execution": {
     "iopub.execute_input": "2023-11-02T10:59:40.458751Z",
     "iopub.status.busy": "2023-11-02T10:59:40.458264Z",
     "iopub.status.idle": "2023-11-02T10:59:41.934460Z",
     "shell.execute_reply": "2023-11-02T10:59:41.932795Z"
    },
    "papermill": {
     "duration": 1.503814,
     "end_time": "2023-11-02T10:59:41.938175",
     "exception": false,
     "start_time": "2023-11-02T10:59:40.434361",
     "status": "completed"
    },
    "tags": []
   },
   "outputs": [],
   "source": [
    "cols_to_scale=['tenure','MonthlyCharges','TotalCharges']\n",
    "\n",
    "from sklearn.preprocessing import MinMaxScaler\n",
    "\n",
    "scaler = MinMaxScaler()\n",
    "\n",
    "df2[cols_to_scale] = scaler.fit_transform(df2[cols_to_scale])"
   ]
  },
  {
   "cell_type": "code",
   "execution_count": 25,
   "id": "d93c6ac3",
   "metadata": {
    "execution": {
     "iopub.execute_input": "2023-11-02T10:59:41.988927Z",
     "iopub.status.busy": "2023-11-02T10:59:41.988459Z",
     "iopub.status.idle": "2023-11-02T10:59:42.022518Z",
     "shell.execute_reply": "2023-11-02T10:59:42.021166Z"
    },
    "papermill": {
     "duration": 0.062233,
     "end_time": "2023-11-02T10:59:42.025512",
     "exception": false,
     "start_time": "2023-11-02T10:59:41.963279",
     "status": "completed"
    },
    "tags": []
   },
   "outputs": [
    {
     "data": {
      "text/html": [
       "<div>\n",
       "<style scoped>\n",
       "    .dataframe tbody tr th:only-of-type {\n",
       "        vertical-align: middle;\n",
       "    }\n",
       "\n",
       "    .dataframe tbody tr th {\n",
       "        vertical-align: top;\n",
       "    }\n",
       "\n",
       "    .dataframe thead th {\n",
       "        text-align: right;\n",
       "    }\n",
       "</style>\n",
       "<table border=\"1\" class=\"dataframe\">\n",
       "  <thead>\n",
       "    <tr style=\"text-align: right;\">\n",
       "      <th></th>\n",
       "      <th>gender</th>\n",
       "      <th>SeniorCitizen</th>\n",
       "      <th>Partner</th>\n",
       "      <th>Dependents</th>\n",
       "      <th>tenure</th>\n",
       "      <th>PhoneService</th>\n",
       "      <th>MultipleLines</th>\n",
       "      <th>OnlineSecurity</th>\n",
       "      <th>OnlineBackup</th>\n",
       "      <th>DeviceProtection</th>\n",
       "      <th>...</th>\n",
       "      <th>InternetService_DSL</th>\n",
       "      <th>InternetService_Fiber optic</th>\n",
       "      <th>InternetService_No</th>\n",
       "      <th>Contract_Month-to-month</th>\n",
       "      <th>Contract_One year</th>\n",
       "      <th>Contract_Two year</th>\n",
       "      <th>PaymentMethod_Bank transfer (automatic)</th>\n",
       "      <th>PaymentMethod_Credit card (automatic)</th>\n",
       "      <th>PaymentMethod_Electronic check</th>\n",
       "      <th>PaymentMethod_Mailed check</th>\n",
       "    </tr>\n",
       "  </thead>\n",
       "  <tbody>\n",
       "    <tr>\n",
       "      <th>53</th>\n",
       "      <td>1</td>\n",
       "      <td>1</td>\n",
       "      <td>1</td>\n",
       "      <td>0</td>\n",
       "      <td>0.098592</td>\n",
       "      <td>1</td>\n",
       "      <td>1</td>\n",
       "      <td>0</td>\n",
       "      <td>1</td>\n",
       "      <td>0</td>\n",
       "      <td>...</td>\n",
       "      <td>0.0</td>\n",
       "      <td>1.0</td>\n",
       "      <td>0.0</td>\n",
       "      <td>1.0</td>\n",
       "      <td>0.0</td>\n",
       "      <td>0.0</td>\n",
       "      <td>0.0</td>\n",
       "      <td>1.0</td>\n",
       "      <td>0.0</td>\n",
       "      <td>0.0</td>\n",
       "    </tr>\n",
       "    <tr>\n",
       "      <th>4557</th>\n",
       "      <td>0</td>\n",
       "      <td>0</td>\n",
       "      <td>0</td>\n",
       "      <td>0</td>\n",
       "      <td>0.732394</td>\n",
       "      <td>0</td>\n",
       "      <td>0</td>\n",
       "      <td>0</td>\n",
       "      <td>0</td>\n",
       "      <td>1</td>\n",
       "      <td>...</td>\n",
       "      <td>1.0</td>\n",
       "      <td>0.0</td>\n",
       "      <td>0.0</td>\n",
       "      <td>0.0</td>\n",
       "      <td>1.0</td>\n",
       "      <td>0.0</td>\n",
       "      <td>0.0</td>\n",
       "      <td>1.0</td>\n",
       "      <td>0.0</td>\n",
       "      <td>0.0</td>\n",
       "    </tr>\n",
       "    <tr>\n",
       "      <th>5778</th>\n",
       "      <td>1</td>\n",
       "      <td>0</td>\n",
       "      <td>0</td>\n",
       "      <td>0</td>\n",
       "      <td>0.000000</td>\n",
       "      <td>1</td>\n",
       "      <td>0</td>\n",
       "      <td>0</td>\n",
       "      <td>0</td>\n",
       "      <td>0</td>\n",
       "      <td>...</td>\n",
       "      <td>0.0</td>\n",
       "      <td>0.0</td>\n",
       "      <td>1.0</td>\n",
       "      <td>1.0</td>\n",
       "      <td>0.0</td>\n",
       "      <td>0.0</td>\n",
       "      <td>0.0</td>\n",
       "      <td>1.0</td>\n",
       "      <td>0.0</td>\n",
       "      <td>0.0</td>\n",
       "    </tr>\n",
       "    <tr>\n",
       "      <th>4889</th>\n",
       "      <td>0</td>\n",
       "      <td>0</td>\n",
       "      <td>1</td>\n",
       "      <td>1</td>\n",
       "      <td>0.647887</td>\n",
       "      <td>1</td>\n",
       "      <td>1</td>\n",
       "      <td>1</td>\n",
       "      <td>1</td>\n",
       "      <td>1</td>\n",
       "      <td>...</td>\n",
       "      <td>0.0</td>\n",
       "      <td>1.0</td>\n",
       "      <td>0.0</td>\n",
       "      <td>0.0</td>\n",
       "      <td>1.0</td>\n",
       "      <td>0.0</td>\n",
       "      <td>1.0</td>\n",
       "      <td>0.0</td>\n",
       "      <td>0.0</td>\n",
       "      <td>0.0</td>\n",
       "    </tr>\n",
       "  </tbody>\n",
       "</table>\n",
       "<p>4 rows × 27 columns</p>\n",
       "</div>"
      ],
      "text/plain": [
       "      gender  SeniorCitizen  Partner  Dependents    tenure  PhoneService  \\\n",
       "53         1              1        1           0  0.098592             1   \n",
       "4557       0              0        0           0  0.732394             0   \n",
       "5778       1              0        0           0  0.000000             1   \n",
       "4889       0              0        1           1  0.647887             1   \n",
       "\n",
       "      MultipleLines  OnlineSecurity  OnlineBackup  DeviceProtection  ...  \\\n",
       "53                1               0             1                 0  ...   \n",
       "4557              0               0             0                 1  ...   \n",
       "5778              0               0             0                 0  ...   \n",
       "4889              1               1             1                 1  ...   \n",
       "\n",
       "      InternetService_DSL  InternetService_Fiber optic  InternetService_No  \\\n",
       "53                    0.0                          1.0                 0.0   \n",
       "4557                  1.0                          0.0                 0.0   \n",
       "5778                  0.0                          0.0                 1.0   \n",
       "4889                  0.0                          1.0                 0.0   \n",
       "\n",
       "      Contract_Month-to-month  Contract_One year  Contract_Two year  \\\n",
       "53                        1.0                0.0                0.0   \n",
       "4557                      0.0                1.0                0.0   \n",
       "5778                      1.0                0.0                0.0   \n",
       "4889                      0.0                1.0                0.0   \n",
       "\n",
       "      PaymentMethod_Bank transfer (automatic)  \\\n",
       "53                                        0.0   \n",
       "4557                                      0.0   \n",
       "5778                                      0.0   \n",
       "4889                                      1.0   \n",
       "\n",
       "      PaymentMethod_Credit card (automatic)  PaymentMethod_Electronic check  \\\n",
       "53                                      1.0                             0.0   \n",
       "4557                                    1.0                             0.0   \n",
       "5778                                    1.0                             0.0   \n",
       "4889                                    0.0                             0.0   \n",
       "\n",
       "      PaymentMethod_Mailed check  \n",
       "53                           0.0  \n",
       "4557                         0.0  \n",
       "5778                         0.0  \n",
       "4889                         0.0  \n",
       "\n",
       "[4 rows x 27 columns]"
      ]
     },
     "execution_count": 25,
     "metadata": {},
     "output_type": "execute_result"
    }
   ],
   "source": [
    "df2.sample(4)"
   ]
  },
  {
   "cell_type": "code",
   "execution_count": 26,
   "id": "7de89e2d",
   "metadata": {
    "execution": {
     "iopub.execute_input": "2023-11-02T10:59:42.074316Z",
     "iopub.status.busy": "2023-11-02T10:59:42.073819Z",
     "iopub.status.idle": "2023-11-02T10:59:42.093124Z",
     "shell.execute_reply": "2023-11-02T10:59:42.091733Z"
    },
    "papermill": {
     "duration": 0.046666,
     "end_time": "2023-11-02T10:59:42.095967",
     "exception": false,
     "start_time": "2023-11-02T10:59:42.049301",
     "status": "completed"
    },
    "tags": []
   },
   "outputs": [
    {
     "name": "stdout",
     "output_type": "stream",
     "text": [
      "gender:[1 0]\n",
      "SeniorCitizen:[0 1]\n",
      "Partner:[1 0]\n",
      "Dependents:[0 1]\n",
      "tenure:[0.         0.46478873 0.01408451 0.61971831 0.09859155 0.29577465\n",
      " 0.12676056 0.38028169 0.85915493 0.16901408 0.21126761 0.8028169\n",
      " 0.67605634 0.33802817 0.95774648 0.71830986 0.98591549 0.28169014\n",
      " 0.15492958 0.4084507  0.64788732 1.         0.22535211 0.36619718\n",
      " 0.05633803 0.63380282 0.14084507 0.97183099 0.87323944 0.5915493\n",
      " 0.1971831  0.83098592 0.23943662 0.91549296 0.11267606 0.02816901\n",
      " 0.42253521 0.69014085 0.88732394 0.77464789 0.08450704 0.57746479\n",
      " 0.47887324 0.66197183 0.3943662  0.90140845 0.52112676 0.94366197\n",
      " 0.43661972 0.76056338 0.50704225 0.49295775 0.56338028 0.07042254\n",
      " 0.04225352 0.45070423 0.92957746 0.30985915 0.78873239 0.84507042\n",
      " 0.18309859 0.26760563 0.73239437 0.54929577 0.81690141 0.32394366\n",
      " 0.6056338  0.25352113 0.74647887 0.70422535 0.35211268 0.53521127]\n",
      "PhoneService:[0 1]\n",
      "MultipleLines:[0 1]\n",
      "OnlineSecurity:[0 1]\n",
      "OnlineBackup:[1 0]\n",
      "DeviceProtection:[0 1]\n",
      "TechSupport:[0 1]\n",
      "StreamingTV:[0 1]\n",
      "StreamingMovies:[0 1]\n",
      "PaperlessBilling:[1 0]\n",
      "MonthlyCharges:[0.11542289 0.38507463 0.35422886 ... 0.44626866 0.25820896 0.60149254]\n",
      "TotalCharges:[0.0012751  0.21586661 0.01031041 ... 0.03780868 0.03321025 0.78764136]\n",
      "Churn:[0 1]\n",
      "InternetService_DSL:[1. 0.]\n",
      "InternetService_Fiber optic:[0. 1.]\n",
      "InternetService_No:[0. 1.]\n",
      "Contract_Month-to-month:[1. 0.]\n",
      "Contract_One year:[0. 1.]\n",
      "Contract_Two year:[0. 1.]\n",
      "PaymentMethod_Bank transfer (automatic):[0. 1.]\n",
      "PaymentMethod_Credit card (automatic):[0. 1.]\n",
      "PaymentMethod_Electronic check:[1. 0.]\n",
      "PaymentMethod_Mailed check:[0. 1.]\n"
     ]
    }
   ],
   "source": [
    " for column in df2:\n",
    "    print(f'{column}:{df2[column].unique()}')"
   ]
  },
  {
   "cell_type": "markdown",
   "id": "891a0dee",
   "metadata": {
    "papermill": {
     "duration": 0.023035,
     "end_time": "2023-11-02T10:59:42.141954",
     "exception": false,
     "start_time": "2023-11-02T10:59:42.118919",
     "status": "completed"
    },
    "tags": []
   },
   "source": [
    "Great our dataset is ready to use.\n",
    "\n",
    "figure out our target and feature columns"
   ]
  },
  {
   "cell_type": "code",
   "execution_count": 27,
   "id": "89d6fc98",
   "metadata": {
    "execution": {
     "iopub.execute_input": "2023-11-02T10:59:42.201760Z",
     "iopub.status.busy": "2023-11-02T10:59:42.200690Z",
     "iopub.status.idle": "2023-11-02T10:59:42.211338Z",
     "shell.execute_reply": "2023-11-02T10:59:42.210021Z"
    },
    "papermill": {
     "duration": 0.044451,
     "end_time": "2023-11-02T10:59:42.213758",
     "exception": false,
     "start_time": "2023-11-02T10:59:42.169307",
     "status": "completed"
    },
    "tags": []
   },
   "outputs": [],
   "source": [
    "X=df2.drop('Churn',axis='columns')\n",
    "y=df2['Churn']"
   ]
  },
  {
   "cell_type": "markdown",
   "id": "b601a160",
   "metadata": {
    "papermill": {
     "duration": 0.022964,
     "end_time": "2023-11-02T10:59:42.261873",
     "exception": false,
     "start_time": "2023-11-02T10:59:42.238909",
     "status": "completed"
    },
    "tags": []
   },
   "source": [
    "Now split data sets"
   ]
  },
  {
   "cell_type": "code",
   "execution_count": 28,
   "id": "61f95eb1",
   "metadata": {
    "execution": {
     "iopub.execute_input": "2023-11-02T10:59:42.312157Z",
     "iopub.status.busy": "2023-11-02T10:59:42.311707Z",
     "iopub.status.idle": "2023-11-02T10:59:42.450952Z",
     "shell.execute_reply": "2023-11-02T10:59:42.449587Z"
    },
    "papermill": {
     "duration": 0.168528,
     "end_time": "2023-11-02T10:59:42.454304",
     "exception": false,
     "start_time": "2023-11-02T10:59:42.285776",
     "status": "completed"
    },
    "tags": []
   },
   "outputs": [],
   "source": [
    "from sklearn.model_selection import  train_test_split\n",
    "\n",
    "X_train, X_test, y_train,y_test = train_test_split(X,y,\n",
    "                                                   test_size=0.2,random_state=42)\n",
    "\n"
   ]
  },
  {
   "cell_type": "code",
   "execution_count": 29,
   "id": "3646b418",
   "metadata": {
    "execution": {
     "iopub.execute_input": "2023-11-02T10:59:42.502992Z",
     "iopub.status.busy": "2023-11-02T10:59:42.502543Z",
     "iopub.status.idle": "2023-11-02T10:59:42.509980Z",
     "shell.execute_reply": "2023-11-02T10:59:42.508813Z"
    },
    "papermill": {
     "duration": 0.034766,
     "end_time": "2023-11-02T10:59:42.512502",
     "exception": false,
     "start_time": "2023-11-02T10:59:42.477736",
     "status": "completed"
    },
    "tags": []
   },
   "outputs": [
    {
     "data": {
      "text/plain": [
       "(5625, 26)"
      ]
     },
     "execution_count": 29,
     "metadata": {},
     "output_type": "execute_result"
    }
   ],
   "source": [
    "X_train.shape"
   ]
  },
  {
   "cell_type": "code",
   "execution_count": 30,
   "id": "37218e6d",
   "metadata": {
    "execution": {
     "iopub.execute_input": "2023-11-02T10:59:42.560545Z",
     "iopub.status.busy": "2023-11-02T10:59:42.559983Z",
     "iopub.status.idle": "2023-11-02T10:59:42.568921Z",
     "shell.execute_reply": "2023-11-02T10:59:42.567496Z"
    },
    "papermill": {
     "duration": 0.036298,
     "end_time": "2023-11-02T10:59:42.571675",
     "exception": false,
     "start_time": "2023-11-02T10:59:42.535377",
     "status": "completed"
    },
    "tags": []
   },
   "outputs": [
    {
     "data": {
      "text/plain": [
       "(1407, 26)"
      ]
     },
     "execution_count": 30,
     "metadata": {},
     "output_type": "execute_result"
    }
   ],
   "source": [
    "X_test.shape"
   ]
  },
  {
   "cell_type": "code",
   "execution_count": 31,
   "id": "d2f14fac",
   "metadata": {
    "execution": {
     "iopub.execute_input": "2023-11-02T10:59:42.620674Z",
     "iopub.status.busy": "2023-11-02T10:59:42.620228Z",
     "iopub.status.idle": "2023-11-02T10:59:42.628620Z",
     "shell.execute_reply": "2023-11-02T10:59:42.627264Z"
    },
    "papermill": {
     "duration": 0.035989,
     "end_time": "2023-11-02T10:59:42.631164",
     "exception": false,
     "start_time": "2023-11-02T10:59:42.595175",
     "status": "completed"
    },
    "tags": []
   },
   "outputs": [
    {
     "data": {
      "text/plain": [
       "26"
      ]
     },
     "execution_count": 31,
     "metadata": {},
     "output_type": "execute_result"
    }
   ],
   "source": [
    "len(X_train.columns)"
   ]
  },
  {
   "cell_type": "markdown",
   "id": "9e3343fc",
   "metadata": {
    "papermill": {
     "duration": 0.02322,
     "end_time": "2023-11-02T10:59:42.677716",
     "exception": false,
     "start_time": "2023-11-02T10:59:42.654496",
     "status": "completed"
    },
    "tags": []
   },
   "source": [
    "create ANN model\n",
    "\n",
    "One hidden layer  and one Output layer\n",
    "\n"
   ]
  },
  {
   "cell_type": "code",
   "execution_count": 32,
   "id": "18e4971e",
   "metadata": {
    "execution": {
     "iopub.execute_input": "2023-11-02T10:59:42.727512Z",
     "iopub.status.busy": "2023-11-02T10:59:42.726890Z",
     "iopub.status.idle": "2023-11-02T11:00:35.234287Z",
     "shell.execute_reply": "2023-11-02T11:00:35.232924Z"
    },
    "papermill": {
     "duration": 52.535482,
     "end_time": "2023-11-02T11:00:35.237191",
     "exception": false,
     "start_time": "2023-11-02T10:59:42.701709",
     "status": "completed"
    },
    "tags": []
   },
   "outputs": [
    {
     "name": "stdout",
     "output_type": "stream",
     "text": [
      "Epoch 1/100\n",
      "176/176 [==============================] - 1s 2ms/step - loss: 0.5347 - accuracy: 0.7380\n",
      "Epoch 2/100\n",
      "176/176 [==============================] - 0s 2ms/step - loss: 0.4393 - accuracy: 0.7916\n",
      "Epoch 3/100\n",
      "176/176 [==============================] - 0s 2ms/step - loss: 0.4269 - accuracy: 0.7980\n",
      "Epoch 4/100\n",
      "176/176 [==============================] - 0s 2ms/step - loss: 0.4211 - accuracy: 0.8018\n",
      "Epoch 5/100\n",
      "176/176 [==============================] - 0s 2ms/step - loss: 0.4182 - accuracy: 0.8055\n",
      "Epoch 6/100\n",
      "176/176 [==============================] - 0s 2ms/step - loss: 0.4163 - accuracy: 0.8043\n",
      "Epoch 7/100\n",
      "176/176 [==============================] - 0s 2ms/step - loss: 0.4150 - accuracy: 0.8060\n",
      "Epoch 8/100\n",
      "176/176 [==============================] - 0s 2ms/step - loss: 0.4133 - accuracy: 0.8055\n",
      "Epoch 9/100\n",
      "176/176 [==============================] - 0s 2ms/step - loss: 0.4127 - accuracy: 0.8078\n",
      "Epoch 10/100\n",
      "176/176 [==============================] - 0s 2ms/step - loss: 0.4120 - accuracy: 0.8069\n",
      "Epoch 11/100\n",
      "176/176 [==============================] - 0s 2ms/step - loss: 0.4113 - accuracy: 0.8084\n",
      "Epoch 12/100\n",
      "176/176 [==============================] - 0s 2ms/step - loss: 0.4101 - accuracy: 0.8096\n",
      "Epoch 13/100\n",
      "176/176 [==============================] - 0s 2ms/step - loss: 0.4093 - accuracy: 0.8071\n",
      "Epoch 14/100\n",
      "176/176 [==============================] - 0s 2ms/step - loss: 0.4088 - accuracy: 0.8100\n",
      "Epoch 15/100\n",
      "176/176 [==============================] - 0s 2ms/step - loss: 0.4077 - accuracy: 0.8071\n",
      "Epoch 16/100\n",
      "176/176 [==============================] - 0s 2ms/step - loss: 0.4072 - accuracy: 0.8101\n",
      "Epoch 17/100\n",
      "176/176 [==============================] - 0s 2ms/step - loss: 0.4066 - accuracy: 0.8098\n",
      "Epoch 18/100\n",
      "176/176 [==============================] - 0s 2ms/step - loss: 0.4059 - accuracy: 0.8096\n",
      "Epoch 19/100\n",
      "176/176 [==============================] - 0s 2ms/step - loss: 0.4056 - accuracy: 0.8105\n",
      "Epoch 20/100\n",
      "176/176 [==============================] - 0s 2ms/step - loss: 0.4056 - accuracy: 0.8117\n",
      "Epoch 21/100\n",
      "176/176 [==============================] - 0s 2ms/step - loss: 0.4044 - accuracy: 0.8116\n",
      "Epoch 22/100\n",
      "176/176 [==============================] - 0s 2ms/step - loss: 0.4041 - accuracy: 0.8124\n",
      "Epoch 23/100\n",
      "176/176 [==============================] - 0s 2ms/step - loss: 0.4029 - accuracy: 0.8101\n",
      "Epoch 24/100\n",
      "176/176 [==============================] - 0s 2ms/step - loss: 0.4033 - accuracy: 0.8123\n",
      "Epoch 25/100\n",
      "176/176 [==============================] - 0s 2ms/step - loss: 0.4025 - accuracy: 0.8153\n",
      "Epoch 26/100\n",
      "176/176 [==============================] - 0s 2ms/step - loss: 0.4025 - accuracy: 0.8105\n",
      "Epoch 27/100\n",
      "176/176 [==============================] - 0s 2ms/step - loss: 0.4022 - accuracy: 0.8121\n",
      "Epoch 28/100\n",
      "176/176 [==============================] - 0s 2ms/step - loss: 0.4015 - accuracy: 0.8133\n",
      "Epoch 29/100\n",
      "176/176 [==============================] - 0s 2ms/step - loss: 0.4018 - accuracy: 0.8121\n",
      "Epoch 30/100\n",
      "176/176 [==============================] - 0s 2ms/step - loss: 0.4003 - accuracy: 0.8144\n",
      "Epoch 31/100\n",
      "176/176 [==============================] - 0s 2ms/step - loss: 0.4007 - accuracy: 0.8132\n",
      "Epoch 32/100\n",
      "176/176 [==============================] - 0s 2ms/step - loss: 0.4001 - accuracy: 0.8128\n",
      "Epoch 33/100\n",
      "176/176 [==============================] - 0s 2ms/step - loss: 0.3999 - accuracy: 0.8146\n",
      "Epoch 34/100\n",
      "176/176 [==============================] - 0s 2ms/step - loss: 0.3993 - accuracy: 0.8140\n",
      "Epoch 35/100\n",
      "176/176 [==============================] - 0s 2ms/step - loss: 0.3989 - accuracy: 0.8128\n",
      "Epoch 36/100\n",
      "176/176 [==============================] - 0s 2ms/step - loss: 0.3987 - accuracy: 0.8140\n",
      "Epoch 37/100\n",
      "176/176 [==============================] - 0s 2ms/step - loss: 0.3982 - accuracy: 0.8142\n",
      "Epoch 38/100\n",
      "176/176 [==============================] - 0s 2ms/step - loss: 0.3978 - accuracy: 0.8135\n",
      "Epoch 39/100\n",
      "176/176 [==============================] - 0s 2ms/step - loss: 0.3969 - accuracy: 0.8153\n",
      "Epoch 40/100\n",
      "176/176 [==============================] - 0s 2ms/step - loss: 0.3974 - accuracy: 0.8144\n",
      "Epoch 41/100\n",
      "176/176 [==============================] - 0s 2ms/step - loss: 0.3969 - accuracy: 0.8144\n",
      "Epoch 42/100\n",
      "176/176 [==============================] - 0s 2ms/step - loss: 0.3970 - accuracy: 0.8158\n",
      "Epoch 43/100\n",
      "176/176 [==============================] - 0s 2ms/step - loss: 0.3966 - accuracy: 0.8142\n",
      "Epoch 44/100\n",
      "176/176 [==============================] - 0s 2ms/step - loss: 0.3959 - accuracy: 0.8155\n",
      "Epoch 45/100\n",
      "176/176 [==============================] - 0s 2ms/step - loss: 0.3955 - accuracy: 0.8149\n",
      "Epoch 46/100\n",
      "176/176 [==============================] - 0s 2ms/step - loss: 0.3949 - accuracy: 0.8140\n",
      "Epoch 47/100\n",
      "176/176 [==============================] - 0s 2ms/step - loss: 0.3950 - accuracy: 0.8156\n",
      "Epoch 48/100\n",
      "176/176 [==============================] - 0s 2ms/step - loss: 0.3941 - accuracy: 0.8167\n",
      "Epoch 49/100\n",
      "176/176 [==============================] - 0s 2ms/step - loss: 0.3946 - accuracy: 0.8151\n",
      "Epoch 50/100\n",
      "176/176 [==============================] - 0s 2ms/step - loss: 0.3942 - accuracy: 0.8142\n",
      "Epoch 51/100\n",
      "176/176 [==============================] - 0s 2ms/step - loss: 0.3938 - accuracy: 0.8158\n",
      "Epoch 52/100\n",
      "176/176 [==============================] - 0s 2ms/step - loss: 0.3934 - accuracy: 0.8151\n",
      "Epoch 53/100\n",
      "176/176 [==============================] - 0s 2ms/step - loss: 0.3929 - accuracy: 0.8164\n",
      "Epoch 54/100\n",
      "176/176 [==============================] - 0s 2ms/step - loss: 0.3925 - accuracy: 0.8162\n",
      "Epoch 55/100\n",
      "176/176 [==============================] - 0s 2ms/step - loss: 0.3923 - accuracy: 0.8176\n",
      "Epoch 56/100\n",
      "176/176 [==============================] - 0s 2ms/step - loss: 0.3924 - accuracy: 0.8162\n",
      "Epoch 57/100\n",
      "176/176 [==============================] - 0s 2ms/step - loss: 0.3918 - accuracy: 0.8148\n",
      "Epoch 58/100\n",
      "176/176 [==============================] - 0s 2ms/step - loss: 0.3918 - accuracy: 0.8192\n",
      "Epoch 59/100\n",
      "176/176 [==============================] - 0s 2ms/step - loss: 0.3915 - accuracy: 0.8201\n",
      "Epoch 60/100\n",
      "176/176 [==============================] - 0s 2ms/step - loss: 0.3910 - accuracy: 0.8194\n",
      "Epoch 61/100\n",
      "176/176 [==============================] - 0s 2ms/step - loss: 0.3912 - accuracy: 0.8192\n",
      "Epoch 62/100\n",
      "176/176 [==============================] - 0s 2ms/step - loss: 0.3909 - accuracy: 0.8169\n",
      "Epoch 63/100\n",
      "176/176 [==============================] - 0s 2ms/step - loss: 0.3906 - accuracy: 0.8187\n",
      "Epoch 64/100\n",
      "176/176 [==============================] - 0s 2ms/step - loss: 0.3897 - accuracy: 0.8162\n",
      "Epoch 65/100\n",
      "176/176 [==============================] - 0s 2ms/step - loss: 0.3897 - accuracy: 0.8183\n",
      "Epoch 66/100\n",
      "176/176 [==============================] - 0s 2ms/step - loss: 0.3890 - accuracy: 0.8206\n",
      "Epoch 67/100\n",
      "176/176 [==============================] - 0s 2ms/step - loss: 0.3896 - accuracy: 0.8178\n",
      "Epoch 68/100\n",
      "176/176 [==============================] - 0s 2ms/step - loss: 0.3890 - accuracy: 0.8174\n",
      "Epoch 69/100\n",
      "176/176 [==============================] - 0s 2ms/step - loss: 0.3892 - accuracy: 0.8222\n",
      "Epoch 70/100\n",
      "176/176 [==============================] - 0s 2ms/step - loss: 0.3890 - accuracy: 0.8204\n",
      "Epoch 71/100\n",
      "176/176 [==============================] - 0s 2ms/step - loss: 0.3881 - accuracy: 0.8201\n",
      "Epoch 72/100\n",
      "176/176 [==============================] - 0s 2ms/step - loss: 0.3886 - accuracy: 0.8181\n",
      "Epoch 73/100\n",
      "176/176 [==============================] - 0s 2ms/step - loss: 0.3876 - accuracy: 0.8208\n",
      "Epoch 74/100\n",
      "176/176 [==============================] - 0s 2ms/step - loss: 0.3882 - accuracy: 0.8190\n",
      "Epoch 75/100\n",
      "176/176 [==============================] - 0s 2ms/step - loss: 0.3875 - accuracy: 0.8178\n",
      "Epoch 76/100\n",
      "176/176 [==============================] - 0s 2ms/step - loss: 0.3871 - accuracy: 0.8199\n",
      "Epoch 77/100\n",
      "176/176 [==============================] - 0s 2ms/step - loss: 0.3868 - accuracy: 0.8188\n",
      "Epoch 78/100\n",
      "176/176 [==============================] - 0s 2ms/step - loss: 0.3865 - accuracy: 0.8226\n",
      "Epoch 79/100\n",
      "176/176 [==============================] - 0s 2ms/step - loss: 0.3861 - accuracy: 0.8231\n",
      "Epoch 80/100\n",
      "176/176 [==============================] - 0s 2ms/step - loss: 0.3857 - accuracy: 0.8212\n",
      "Epoch 81/100\n",
      "176/176 [==============================] - 0s 2ms/step - loss: 0.3860 - accuracy: 0.8187\n",
      "Epoch 82/100\n",
      "176/176 [==============================] - 0s 2ms/step - loss: 0.3859 - accuracy: 0.8183\n",
      "Epoch 83/100\n",
      "176/176 [==============================] - 0s 2ms/step - loss: 0.3861 - accuracy: 0.8181\n",
      "Epoch 84/100\n",
      "176/176 [==============================] - 0s 2ms/step - loss: 0.3852 - accuracy: 0.8180\n",
      "Epoch 85/100\n",
      "176/176 [==============================] - 0s 2ms/step - loss: 0.3857 - accuracy: 0.8197\n",
      "Epoch 86/100\n",
      "176/176 [==============================] - 0s 2ms/step - loss: 0.3849 - accuracy: 0.8199\n",
      "Epoch 87/100\n",
      "176/176 [==============================] - 0s 2ms/step - loss: 0.3855 - accuracy: 0.8199\n",
      "Epoch 88/100\n",
      "176/176 [==============================] - 0s 2ms/step - loss: 0.3838 - accuracy: 0.8201\n",
      "Epoch 89/100\n",
      "176/176 [==============================] - 0s 2ms/step - loss: 0.3843 - accuracy: 0.8212\n",
      "Epoch 90/100\n",
      "176/176 [==============================] - 0s 2ms/step - loss: 0.3836 - accuracy: 0.8196\n",
      "Epoch 91/100\n",
      "176/176 [==============================] - 0s 2ms/step - loss: 0.3839 - accuracy: 0.8199\n",
      "Epoch 92/100\n",
      "176/176 [==============================] - 0s 2ms/step - loss: 0.3843 - accuracy: 0.8212\n",
      "Epoch 93/100\n",
      "176/176 [==============================] - 0s 2ms/step - loss: 0.3832 - accuracy: 0.8192\n",
      "Epoch 94/100\n",
      "176/176 [==============================] - 0s 2ms/step - loss: 0.3837 - accuracy: 0.8197\n",
      "Epoch 95/100\n",
      "176/176 [==============================] - 0s 2ms/step - loss: 0.3829 - accuracy: 0.8199\n",
      "Epoch 96/100\n",
      "176/176 [==============================] - 0s 2ms/step - loss: 0.3827 - accuracy: 0.8213\n",
      "Epoch 97/100\n",
      "176/176 [==============================] - 0s 2ms/step - loss: 0.3826 - accuracy: 0.8197\n",
      "Epoch 98/100\n",
      "176/176 [==============================] - 0s 2ms/step - loss: 0.3832 - accuracy: 0.8190\n",
      "Epoch 99/100\n",
      "176/176 [==============================] - 0s 2ms/step - loss: 0.3824 - accuracy: 0.8185\n",
      "Epoch 100/100\n",
      "176/176 [==============================] - 0s 2ms/step - loss: 0.3815 - accuracy: 0.8224\n"
     ]
    },
    {
     "data": {
      "text/plain": [
       "<keras.callbacks.History at 0x7eb17e48e770>"
      ]
     },
     "execution_count": 32,
     "metadata": {},
     "output_type": "execute_result"
    }
   ],
   "source": [
    "import tensorflow as tf\n",
    "from tensorflow import keras\n",
    "\n",
    "model = keras.Sequential([\n",
    "    keras.layers.Dense(20, input_shape=(26,), activation='relu'),\n",
    "    keras.layers.Dense(1,activation='sigmoid'),\n",
    "])\n",
    "\n",
    "model.compile(optimizer='adam',\n",
    "              loss='binary_crossentropy',\n",
    "              metrics=['accuracy'])\n",
    "\n",
    "model.fit(X_train,y_train,epochs=100)"
   ]
  },
  {
   "cell_type": "markdown",
   "id": "5281a1b8",
   "metadata": {
    "papermill": {
     "duration": 0.099779,
     "end_time": "2023-11-02T11:00:35.435861",
     "exception": false,
     "start_time": "2023-11-02T11:00:35.336082",
     "status": "completed"
    },
    "tags": []
   },
   "source": [
    "Evaluate model on test set"
   ]
  },
  {
   "cell_type": "code",
   "execution_count": 33,
   "id": "077d242a",
   "metadata": {
    "execution": {
     "iopub.execute_input": "2023-11-02T11:00:35.638351Z",
     "iopub.status.busy": "2023-11-02T11:00:35.637779Z",
     "iopub.status.idle": "2023-11-02T11:00:35.969639Z",
     "shell.execute_reply": "2023-11-02T11:00:35.968138Z"
    },
    "papermill": {
     "duration": 0.43676,
     "end_time": "2023-11-02T11:00:35.972772",
     "exception": false,
     "start_time": "2023-11-02T11:00:35.536012",
     "status": "completed"
    },
    "tags": []
   },
   "outputs": [
    {
     "name": "stdout",
     "output_type": "stream",
     "text": [
      "44/44 [==============================] - 0s 2ms/step - loss: 0.4460 - accuracy: 0.7882\n"
     ]
    },
    {
     "data": {
      "text/plain": [
       "[0.4459972381591797, 0.7882018685340881]"
      ]
     },
     "execution_count": 33,
     "metadata": {},
     "output_type": "execute_result"
    }
   ],
   "source": [
    "model.evaluate(X_test,y_test)"
   ]
  },
  {
   "cell_type": "code",
   "execution_count": 34,
   "id": "9dfa3a77",
   "metadata": {
    "execution": {
     "iopub.execute_input": "2023-11-02T11:00:36.177168Z",
     "iopub.status.busy": "2023-11-02T11:00:36.176637Z",
     "iopub.status.idle": "2023-11-02T11:00:36.459417Z",
     "shell.execute_reply": "2023-11-02T11:00:36.458037Z"
    },
    "papermill": {
     "duration": 0.389018,
     "end_time": "2023-11-02T11:00:36.462437",
     "exception": false,
     "start_time": "2023-11-02T11:00:36.073419",
     "status": "completed"
    },
    "tags": []
   },
   "outputs": [
    {
     "name": "stdout",
     "output_type": "stream",
     "text": [
      "44/44 [==============================] - 0s 1ms/step\n"
     ]
    }
   ],
   "source": [
    "yp=model.predict(X_test)"
   ]
  },
  {
   "cell_type": "code",
   "execution_count": 35,
   "id": "151b619c",
   "metadata": {
    "execution": {
     "iopub.execute_input": "2023-11-02T11:00:36.662699Z",
     "iopub.status.busy": "2023-11-02T11:00:36.662199Z",
     "iopub.status.idle": "2023-11-02T11:00:36.671225Z",
     "shell.execute_reply": "2023-11-02T11:00:36.669867Z"
    },
    "papermill": {
     "duration": 0.112344,
     "end_time": "2023-11-02T11:00:36.673773",
     "exception": false,
     "start_time": "2023-11-02T11:00:36.561429",
     "status": "completed"
    },
    "tags": []
   },
   "outputs": [
    {
     "data": {
      "text/plain": [
       "array([[0.00341695],\n",
       "       [0.07671134],\n",
       "       [0.7320323 ],\n",
       "       [0.04806666],\n",
       "       [0.34143582]], dtype=float32)"
      ]
     },
     "execution_count": 35,
     "metadata": {},
     "output_type": "execute_result"
    }
   ],
   "source": [
    "# yp contain values between 0,1\n",
    "\n",
    "yp[:5]"
   ]
  },
  {
   "cell_type": "code",
   "execution_count": 36,
   "id": "58179bc5",
   "metadata": {
    "execution": {
     "iopub.execute_input": "2023-11-02T11:00:36.872752Z",
     "iopub.status.busy": "2023-11-02T11:00:36.872257Z",
     "iopub.status.idle": "2023-11-02T11:00:36.881471Z",
     "shell.execute_reply": "2023-11-02T11:00:36.880244Z"
    },
    "papermill": {
     "duration": 0.111685,
     "end_time": "2023-11-02T11:00:36.883725",
     "exception": false,
     "start_time": "2023-11-02T11:00:36.772040",
     "status": "completed"
    },
    "tags": []
   },
   "outputs": [
    {
     "data": {
      "text/plain": [
       "2481    0\n",
       "6784    0\n",
       "6125    1\n",
       "3052    0\n",
       "4099    0\n",
       "3223    0\n",
       "3774    0\n",
       "3469    0\n",
       "3420    0\n",
       "1196    0\n",
       "Name: Churn, dtype: int64"
      ]
     },
     "execution_count": 36,
     "metadata": {},
     "output_type": "execute_result"
    }
   ],
   "source": [
    "y_test[:10]"
   ]
  },
  {
   "cell_type": "markdown",
   "id": "80ea48c8",
   "metadata": {
    "papermill": {
     "duration": 0.09828,
     "end_time": "2023-11-02T11:00:37.084279",
     "exception": false,
     "start_time": "2023-11-02T11:00:36.985999",
     "status": "completed"
    },
    "tags": []
   },
   "source": [
    "let's convert yp to zero ,one"
   ]
  },
  {
   "cell_type": "code",
   "execution_count": 37,
   "id": "d687da8d",
   "metadata": {
    "execution": {
     "iopub.execute_input": "2023-11-02T11:00:37.286759Z",
     "iopub.status.busy": "2023-11-02T11:00:37.286306Z",
     "iopub.status.idle": "2023-11-02T11:00:37.298639Z",
     "shell.execute_reply": "2023-11-02T11:00:37.297381Z"
    },
    "papermill": {
     "duration": 0.115881,
     "end_time": "2023-11-02T11:00:37.301537",
     "exception": false,
     "start_time": "2023-11-02T11:00:37.185656",
     "status": "completed"
    },
    "tags": []
   },
   "outputs": [],
   "source": [
    "y_pred=[]\n",
    "\n",
    "for element in yp:\n",
    "    if element> 0.5:\n",
    "        y_pred.append(1)\n",
    "    else:\n",
    "        y_pred.append(0)"
   ]
  },
  {
   "cell_type": "markdown",
   "id": "0f046a90",
   "metadata": {
    "papermill": {
     "duration": 0.098538,
     "end_time": "2023-11-02T11:00:37.499297",
     "exception": false,
     "start_time": "2023-11-02T11:00:37.400759",
     "status": "completed"
    },
    "tags": []
   },
   "source": [
    "1. accuracy= total currect prediction / total prediction\n",
    "\n",
    "2. Precision for 0 class i.e precision for customers who did not churn\n",
    "\n",
    "      precision= total correct pred zero/ total pred zero\n",
    "      \n",
    "3. recall for 0\n",
    "\n",
    "   recall= correct predicted zero /total number of zero\n",
    "\n"
   ]
  },
  {
   "cell_type": "code",
   "execution_count": 38,
   "id": "da29dccb",
   "metadata": {
    "execution": {
     "iopub.execute_input": "2023-11-02T11:00:37.699560Z",
     "iopub.status.busy": "2023-11-02T11:00:37.698744Z",
     "iopub.status.idle": "2023-11-02T11:00:37.704134Z",
     "shell.execute_reply": "2023-11-02T11:00:37.702915Z"
    },
    "papermill": {
     "duration": 0.108403,
     "end_time": "2023-11-02T11:00:37.706593",
     "exception": false,
     "start_time": "2023-11-02T11:00:37.598190",
     "status": "completed"
    },
    "tags": []
   },
   "outputs": [],
   "source": [
    "# #accuracy\n",
    "# acc=round((921+186)/(921+112+188+186),2)\n",
    "\n",
    "# #precision for 0\n",
    "# p0=round(915/(915+177),2)\n",
    "\n",
    "# #precision for 1\n",
    "# p1=round(197/(118+197),2)\n",
    "\n",
    "# #recall for 0:\n",
    "# recall=round(915/(915+118),2)\n",
    "\n",
    "# acc,p0,p1,recall"
   ]
  },
  {
   "cell_type": "code",
   "execution_count": 39,
   "id": "b11a8b10",
   "metadata": {
    "execution": {
     "iopub.execute_input": "2023-11-02T11:00:37.905499Z",
     "iopub.status.busy": "2023-11-02T11:00:37.904968Z",
     "iopub.status.idle": "2023-11-02T11:00:37.923885Z",
     "shell.execute_reply": "2023-11-02T11:00:37.922409Z"
    },
    "papermill": {
     "duration": 0.122206,
     "end_time": "2023-11-02T11:00:37.926960",
     "exception": false,
     "start_time": "2023-11-02T11:00:37.804754",
     "status": "completed"
    },
    "tags": []
   },
   "outputs": [
    {
     "name": "stdout",
     "output_type": "stream",
     "text": [
      "              precision    recall  f1-score   support\n",
      "\n",
      "           0       0.84      0.89      0.86      1033\n",
      "           1       0.62      0.52      0.56       374\n",
      "\n",
      "    accuracy                           0.79      1407\n",
      "   macro avg       0.73      0.70      0.71      1407\n",
      "weighted avg       0.78      0.79      0.78      1407\n",
      "\n"
     ]
    }
   ],
   "source": [
    "from sklearn.metrics import confusion_matrix,classification_report\n",
    "\n",
    "\n",
    "print(classification_report(y_test,y_pred))"
   ]
  },
  {
   "cell_type": "code",
   "execution_count": 40,
   "id": "79a7a5f4",
   "metadata": {
    "execution": {
     "iopub.execute_input": "2023-11-02T11:00:38.133191Z",
     "iopub.status.busy": "2023-11-02T11:00:38.132639Z",
     "iopub.status.idle": "2023-11-02T11:00:39.040852Z",
     "shell.execute_reply": "2023-11-02T11:00:39.039602Z"
    },
    "papermill": {
     "duration": 1.01298,
     "end_time": "2023-11-02T11:00:39.043797",
     "exception": false,
     "start_time": "2023-11-02T11:00:38.030817",
     "status": "completed"
    },
    "tags": []
   },
   "outputs": [
    {
     "data": {
      "text/plain": [
       "Text(95.72222222222221, 0.5, 'Truth')"
      ]
     },
     "execution_count": 40,
     "metadata": {},
     "output_type": "execute_result"
    },
    {
     "data": {
      "image/png": "[encoded data removed]",
      "text/plain": [
       "<Figure size 1000x700 with 2 Axes>"
      ]
     },
     "metadata": {},
     "output_type": "display_data"
    }
   ],
   "source": [
    "import seaborn as sn\n",
    "\n",
    "cm=tf.math.confusion_matrix(labels=y_test,predictions=y_pred)\n",
    "\n",
    "plt.figure(figsize=(10,7))\n",
    "sn.heatmap(cm,annot=True,fmt='d')\n",
    "plt.xlabel('Prediction')\n",
    "plt.ylabel('Truth')"
   ]
  },
  {
   "cell_type": "markdown",
   "id": "c2d0a7d0",
   "metadata": {
    "papermill": {
     "duration": 0.10035,
     "end_time": "2023-11-02T11:00:39.243741",
     "exception": false,
     "start_time": "2023-11-02T11:00:39.143391",
     "status": "completed"
    },
    "tags": []
   },
   "source": [
    "Mitigating Skewdness of Data\n",
    "\n",
    "using SMOTE thats improve f1 score for both class\n",
    "\n",
    "Synthetic Minority Over-Sampling Technique"
   ]
  },
  {
   "cell_type": "code",
   "execution_count": 41,
   "id": "5b95fa2c",
   "metadata": {
    "execution": {
     "iopub.execute_input": "2023-11-02T11:00:39.447410Z",
     "iopub.status.busy": "2023-11-02T11:00:39.446178Z",
     "iopub.status.idle": "2023-11-02T11:00:55.381927Z",
     "shell.execute_reply": "2023-11-02T11:00:55.380062Z"
    },
    "papermill": {
     "duration": 16.042502,
     "end_time": "2023-11-02T11:00:55.385634",
     "exception": false,
     "start_time": "2023-11-02T11:00:39.343132",
     "status": "completed"
    },
    "tags": []
   },
   "outputs": [
    {
     "name": "stdout",
     "output_type": "stream",
     "text": [
      "Requirement already satisfied: imbalanced-learn in /opt/conda/lib/python3.10/site-packages (0.11.0)\r\n",
      "Requirement already satisfied: numpy>=1.17.3 in /opt/conda/lib/python3.10/site-packages (from imbalanced-learn) (1.23.5)\r\n",
      "Requirement already satisfied: scipy>=1.5.0 in /opt/conda/lib/python3.10/site-packages (from imbalanced-learn) (1.11.2)\r\n",
      "Requirement already satisfied: scikit-learn>=1.0.2 in /opt/conda/lib/python3.10/site-packages (from imbalanced-learn) (1.2.2)\r\n",
      "Requirement already satisfied: joblib>=1.1.1 in /opt/conda/lib/python3.10/site-packages (from imbalanced-learn) (1.3.2)\r\n",
      "Requirement already satisfied: threadpoolctl>=2.0.0 in /opt/conda/lib/python3.10/site-packages (from imbalanced-learn) (3.1.0)\r\n"
     ]
    }
   ],
   "source": [
    "!pip install -U imbalanced-learn"
   ]
  },
  {
   "cell_type": "code",
   "execution_count": 42,
   "id": "778f187a",
   "metadata": {
    "execution": {
     "iopub.execute_input": "2023-11-02T11:00:55.591387Z",
     "iopub.status.busy": "2023-11-02T11:00:55.590905Z",
     "iopub.status.idle": "2023-11-02T11:00:55.600882Z",
     "shell.execute_reply": "2023-11-02T11:00:55.599674Z"
    },
    "papermill": {
     "duration": 0.117148,
     "end_time": "2023-11-02T11:00:55.603536",
     "exception": false,
     "start_time": "2023-11-02T11:00:55.486388",
     "status": "completed"
    },
    "tags": []
   },
   "outputs": [],
   "source": [
    "X = df2.drop('Churn',axis='columns')\n",
    "y = df2['Churn']\n"
   ]
  },
  {
   "cell_type": "markdown",
   "id": "bb91c9b8",
   "metadata": {
    "papermill": {
     "duration": 0.099777,
     "end_time": "2023-11-02T11:00:55.803153",
     "exception": false,
     "start_time": "2023-11-02T11:00:55.703376",
     "status": "completed"
    },
    "tags": []
   },
   "source": [
    "from imblearn.over_sampling import SMOTE"
   ]
  },
  {
   "cell_type": "code",
   "execution_count": 43,
   "id": "ec6c7581",
   "metadata": {
    "execution": {
     "iopub.execute_input": "2023-11-02T11:00:56.006479Z",
     "iopub.status.busy": "2023-11-02T11:00:56.004873Z",
     "iopub.status.idle": "2023-11-02T11:00:56.912365Z",
     "shell.execute_reply": "2023-11-02T11:00:56.911044Z"
    },
    "papermill": {
     "duration": 1.012923,
     "end_time": "2023-11-02T11:00:56.915282",
     "exception": false,
     "start_time": "2023-11-02T11:00:55.902359",
     "status": "completed"
    },
    "tags": []
   },
   "outputs": [
    {
     "data": {
      "text/plain": [
       "Churn\n",
       "0    5163\n",
       "1    5163\n",
       "Name: count, dtype: int64"
      ]
     },
     "execution_count": 43,
     "metadata": {},
     "output_type": "execute_result"
    }
   ],
   "source": [
    "from imblearn.over_sampling import SMOTE\n",
    "\n",
    "smote = SMOTE(sampling_strategy='minority')\n",
    "X_sm, y_sm = smote.fit_resample(X, y)\n",
    "\n",
    "y_sm.value_counts()"
   ]
  },
  {
   "cell_type": "code",
   "execution_count": 44,
   "id": "566e73fe",
   "metadata": {
    "execution": {
     "iopub.execute_input": "2023-11-02T11:00:57.209597Z",
     "iopub.status.busy": "2023-11-02T11:00:57.208787Z",
     "iopub.status.idle": "2023-11-02T11:00:57.227496Z",
     "shell.execute_reply": "2023-11-02T11:00:57.226265Z"
    },
    "papermill": {
     "duration": 0.123801,
     "end_time": "2023-11-02T11:00:57.230502",
     "exception": false,
     "start_time": "2023-11-02T11:00:57.106701",
     "status": "completed"
    },
    "tags": []
   },
   "outputs": [],
   "source": [
    "from sklearn.model_selection import train_test_split\n",
    "X_train, X_test, y_train, y_test = train_test_split(X_sm, y_sm, test_size=0.2, random_state=15, stratify=y_sm)"
   ]
  },
  {
   "cell_type": "code",
   "execution_count": 45,
   "id": "9f7b7b09",
   "metadata": {
    "execution": {
     "iopub.execute_input": "2023-11-02T11:00:57.436376Z",
     "iopub.status.busy": "2023-11-02T11:00:57.435501Z",
     "iopub.status.idle": "2023-11-02T11:00:57.445301Z",
     "shell.execute_reply": "2023-11-02T11:00:57.443723Z"
    },
    "papermill": {
     "duration": 0.114883,
     "end_time": "2023-11-02T11:00:57.448188",
     "exception": false,
     "start_time": "2023-11-02T11:00:57.333305",
     "status": "completed"
    },
    "tags": []
   },
   "outputs": [
    {
     "data": {
      "text/plain": [
       "Churn\n",
       "1    4130\n",
       "0    4130\n",
       "Name: count, dtype: int64"
      ]
     },
     "execution_count": 45,
     "metadata": {},
     "output_type": "execute_result"
    }
   ],
   "source": [
    "# Number of classes in training Data\n",
    "y_train.value_counts()\n"
   ]
  },
  {
   "cell_type": "code",
   "execution_count": 46,
   "id": "5cf06a31",
   "metadata": {
    "execution": {
     "iopub.execute_input": "2023-11-02T11:00:57.650197Z",
     "iopub.status.busy": "2023-11-02T11:00:57.649356Z",
     "iopub.status.idle": "2023-11-02T11:01:44.797847Z",
     "shell.execute_reply": "2023-11-02T11:01:44.796544Z"
    },
    "papermill": {
     "duration": 47.253324,
     "end_time": "2023-11-02T11:01:44.800968",
     "exception": false,
     "start_time": "2023-11-02T11:00:57.547644",
     "status": "completed"
    },
    "tags": []
   },
   "outputs": [
    {
     "name": "stdout",
     "output_type": "stream",
     "text": [
      "Epoch 1/100\n",
      "259/259 [==============================] - 1s 2ms/step - loss: 0.5593 - accuracy: 0.7317\n",
      "Epoch 2/100\n",
      "259/259 [==============================] - 0s 2ms/step - loss: 0.4795 - accuracy: 0.7714\n",
      "Epoch 3/100\n",
      "259/259 [==============================] - 0s 2ms/step - loss: 0.4705 - accuracy: 0.7741\n",
      "Epoch 4/100\n",
      "259/259 [==============================] - 0s 2ms/step - loss: 0.4662 - accuracy: 0.7771\n",
      "Epoch 5/100\n",
      "259/259 [==============================] - 0s 2ms/step - loss: 0.4626 - accuracy: 0.7803\n",
      "Epoch 6/100\n",
      "259/259 [==============================] - 0s 2ms/step - loss: 0.4597 - accuracy: 0.7808\n",
      "Epoch 7/100\n",
      "259/259 [==============================] - 1s 2ms/step - loss: 0.4571 - accuracy: 0.7820\n",
      "Epoch 8/100\n",
      "259/259 [==============================] - 1s 2ms/step - loss: 0.4549 - accuracy: 0.7828\n",
      "Epoch 9/100\n",
      "259/259 [==============================] - 0s 2ms/step - loss: 0.4527 - accuracy: 0.7851\n",
      "Epoch 10/100\n",
      "259/259 [==============================] - 1s 2ms/step - loss: 0.4510 - accuracy: 0.7873\n",
      "Epoch 11/100\n",
      "259/259 [==============================] - 1s 2ms/step - loss: 0.4494 - accuracy: 0.7851\n",
      "Epoch 12/100\n",
      "259/259 [==============================] - 1s 2ms/step - loss: 0.4469 - accuracy: 0.7872\n",
      "Epoch 13/100\n",
      "259/259 [==============================] - 0s 2ms/step - loss: 0.4459 - accuracy: 0.7862\n",
      "Epoch 14/100\n",
      "259/259 [==============================] - 0s 2ms/step - loss: 0.4450 - accuracy: 0.7909\n",
      "Epoch 15/100\n",
      "259/259 [==============================] - 0s 2ms/step - loss: 0.4432 - accuracy: 0.7883\n",
      "Epoch 16/100\n",
      "259/259 [==============================] - 0s 2ms/step - loss: 0.4425 - accuracy: 0.7895\n",
      "Epoch 17/100\n",
      "259/259 [==============================] - 0s 2ms/step - loss: 0.4408 - accuracy: 0.7914\n",
      "Epoch 18/100\n",
      "259/259 [==============================] - 0s 2ms/step - loss: 0.4402 - accuracy: 0.7898\n",
      "Epoch 19/100\n",
      "259/259 [==============================] - 0s 2ms/step - loss: 0.4390 - accuracy: 0.7932\n",
      "Epoch 20/100\n",
      "259/259 [==============================] - 0s 2ms/step - loss: 0.4381 - accuracy: 0.7916\n",
      "Epoch 21/100\n",
      "259/259 [==============================] - 0s 2ms/step - loss: 0.4370 - accuracy: 0.7925\n",
      "Epoch 22/100\n",
      "259/259 [==============================] - 0s 2ms/step - loss: 0.4358 - accuracy: 0.7948\n",
      "Epoch 23/100\n",
      "259/259 [==============================] - 0s 2ms/step - loss: 0.4349 - accuracy: 0.7946\n",
      "Epoch 24/100\n",
      "259/259 [==============================] - 0s 2ms/step - loss: 0.4336 - accuracy: 0.7979\n",
      "Epoch 25/100\n",
      "259/259 [==============================] - 0s 2ms/step - loss: 0.4328 - accuracy: 0.7976\n",
      "Epoch 26/100\n",
      "259/259 [==============================] - 0s 2ms/step - loss: 0.4321 - accuracy: 0.7960\n",
      "Epoch 27/100\n",
      "259/259 [==============================] - 0s 2ms/step - loss: 0.4311 - accuracy: 0.7982\n",
      "Epoch 28/100\n",
      "259/259 [==============================] - 0s 2ms/step - loss: 0.4305 - accuracy: 0.8005\n",
      "Epoch 29/100\n",
      "259/259 [==============================] - 0s 2ms/step - loss: 0.4297 - accuracy: 0.7996\n",
      "Epoch 30/100\n",
      "259/259 [==============================] - 0s 2ms/step - loss: 0.4288 - accuracy: 0.7998\n",
      "Epoch 31/100\n",
      "259/259 [==============================] - 0s 2ms/step - loss: 0.4286 - accuracy: 0.8022\n",
      "Epoch 32/100\n",
      "259/259 [==============================] - 0s 2ms/step - loss: 0.4273 - accuracy: 0.7990\n",
      "Epoch 33/100\n",
      "259/259 [==============================] - 0s 2ms/step - loss: 0.4261 - accuracy: 0.8022\n",
      "Epoch 34/100\n",
      "259/259 [==============================] - 0s 2ms/step - loss: 0.4262 - accuracy: 0.8010\n",
      "Epoch 35/100\n",
      "259/259 [==============================] - 0s 2ms/step - loss: 0.4261 - accuracy: 0.8011\n",
      "Epoch 36/100\n",
      "259/259 [==============================] - 0s 2ms/step - loss: 0.4246 - accuracy: 0.8034\n",
      "Epoch 37/100\n",
      "259/259 [==============================] - 0s 2ms/step - loss: 0.4245 - accuracy: 0.8033\n",
      "Epoch 38/100\n",
      "259/259 [==============================] - 0s 2ms/step - loss: 0.4239 - accuracy: 0.8027\n",
      "Epoch 39/100\n",
      "259/259 [==============================] - 0s 2ms/step - loss: 0.4230 - accuracy: 0.8033\n",
      "Epoch 40/100\n",
      "259/259 [==============================] - 0s 2ms/step - loss: 0.4225 - accuracy: 0.8041\n",
      "Epoch 41/100\n",
      "259/259 [==============================] - 0s 2ms/step - loss: 0.4213 - accuracy: 0.8064\n",
      "Epoch 42/100\n",
      "259/259 [==============================] - 0s 2ms/step - loss: 0.4210 - accuracy: 0.8068\n",
      "Epoch 43/100\n",
      "259/259 [==============================] - 0s 2ms/step - loss: 0.4206 - accuracy: 0.8051\n",
      "Epoch 44/100\n",
      "259/259 [==============================] - 0s 2ms/step - loss: 0.4201 - accuracy: 0.8063\n",
      "Epoch 45/100\n",
      "259/259 [==============================] - 0s 2ms/step - loss: 0.4198 - accuracy: 0.8075\n",
      "Epoch 46/100\n",
      "259/259 [==============================] - 0s 2ms/step - loss: 0.4192 - accuracy: 0.8068\n",
      "Epoch 47/100\n",
      "259/259 [==============================] - 1s 2ms/step - loss: 0.4180 - accuracy: 0.8081\n",
      "Epoch 48/100\n",
      "259/259 [==============================] - 1s 2ms/step - loss: 0.4173 - accuracy: 0.8093\n",
      "Epoch 49/100\n",
      "259/259 [==============================] - 0s 2ms/step - loss: 0.4172 - accuracy: 0.8097\n",
      "Epoch 50/100\n",
      "259/259 [==============================] - 0s 2ms/step - loss: 0.4164 - accuracy: 0.8099\n",
      "Epoch 51/100\n",
      "259/259 [==============================] - 0s 2ms/step - loss: 0.4158 - accuracy: 0.8110\n",
      "Epoch 52/100\n",
      "259/259 [==============================] - 0s 2ms/step - loss: 0.4149 - accuracy: 0.8111\n",
      "Epoch 53/100\n",
      "259/259 [==============================] - 0s 2ms/step - loss: 0.4147 - accuracy: 0.8128\n",
      "Epoch 54/100\n",
      "259/259 [==============================] - 1s 2ms/step - loss: 0.4139 - accuracy: 0.8125\n",
      "Epoch 55/100\n",
      "259/259 [==============================] - 0s 2ms/step - loss: 0.4131 - accuracy: 0.8117\n",
      "Epoch 56/100\n",
      "259/259 [==============================] - 0s 2ms/step - loss: 0.4131 - accuracy: 0.8100\n",
      "Epoch 57/100\n",
      "259/259 [==============================] - 0s 2ms/step - loss: 0.4113 - accuracy: 0.8137\n",
      "Epoch 58/100\n",
      "259/259 [==============================] - 0s 2ms/step - loss: 0.4122 - accuracy: 0.8114\n",
      "Epoch 59/100\n",
      "259/259 [==============================] - 0s 2ms/step - loss: 0.4114 - accuracy: 0.8143\n",
      "Epoch 60/100\n",
      "259/259 [==============================] - 0s 2ms/step - loss: 0.4108 - accuracy: 0.8143\n",
      "Epoch 61/100\n",
      "259/259 [==============================] - 0s 2ms/step - loss: 0.4101 - accuracy: 0.8172\n",
      "Epoch 62/100\n",
      "259/259 [==============================] - 0s 2ms/step - loss: 0.4096 - accuracy: 0.8156\n",
      "Epoch 63/100\n",
      "259/259 [==============================] - 0s 2ms/step - loss: 0.4089 - accuracy: 0.8166\n",
      "Epoch 64/100\n",
      "259/259 [==============================] - 0s 2ms/step - loss: 0.4083 - accuracy: 0.8144\n",
      "Epoch 65/100\n",
      "259/259 [==============================] - 0s 2ms/step - loss: 0.4076 - accuracy: 0.8166\n",
      "Epoch 66/100\n",
      "259/259 [==============================] - 0s 2ms/step - loss: 0.4075 - accuracy: 0.8160\n",
      "Epoch 67/100\n",
      "259/259 [==============================] - 0s 2ms/step - loss: 0.4073 - accuracy: 0.8167\n",
      "Epoch 68/100\n",
      "259/259 [==============================] - 0s 2ms/step - loss: 0.4069 - accuracy: 0.8174\n",
      "Epoch 69/100\n",
      "259/259 [==============================] - 0s 2ms/step - loss: 0.4070 - accuracy: 0.8184\n",
      "Epoch 70/100\n",
      "259/259 [==============================] - 0s 2ms/step - loss: 0.4057 - accuracy: 0.8192\n",
      "Epoch 71/100\n",
      "259/259 [==============================] - 0s 2ms/step - loss: 0.4054 - accuracy: 0.8182\n",
      "Epoch 72/100\n",
      "259/259 [==============================] - 0s 2ms/step - loss: 0.4051 - accuracy: 0.8188\n",
      "Epoch 73/100\n",
      "259/259 [==============================] - 1s 2ms/step - loss: 0.4041 - accuracy: 0.8188\n",
      "Epoch 74/100\n",
      "259/259 [==============================] - 0s 2ms/step - loss: 0.4035 - accuracy: 0.8190\n",
      "Epoch 75/100\n",
      "259/259 [==============================] - 0s 2ms/step - loss: 0.4037 - accuracy: 0.8192\n",
      "Epoch 76/100\n",
      "259/259 [==============================] - 1s 2ms/step - loss: 0.4031 - accuracy: 0.8192\n",
      "Epoch 77/100\n",
      "259/259 [==============================] - 0s 2ms/step - loss: 0.4030 - accuracy: 0.8180\n",
      "Epoch 78/100\n",
      "259/259 [==============================] - 0s 2ms/step - loss: 0.4029 - accuracy: 0.8192\n",
      "Epoch 79/100\n",
      "259/259 [==============================] - 0s 2ms/step - loss: 0.4028 - accuracy: 0.8196\n",
      "Epoch 80/100\n",
      "259/259 [==============================] - 0s 2ms/step - loss: 0.4030 - accuracy: 0.8200\n",
      "Epoch 81/100\n",
      "259/259 [==============================] - 0s 2ms/step - loss: 0.4011 - accuracy: 0.8192\n",
      "Epoch 82/100\n",
      "259/259 [==============================] - 0s 2ms/step - loss: 0.4014 - accuracy: 0.8173\n",
      "Epoch 83/100\n",
      "259/259 [==============================] - 0s 2ms/step - loss: 0.4010 - accuracy: 0.8189\n",
      "Epoch 84/100\n",
      "259/259 [==============================] - 0s 2ms/step - loss: 0.4007 - accuracy: 0.8192\n",
      "Epoch 85/100\n",
      "259/259 [==============================] - 0s 2ms/step - loss: 0.3995 - accuracy: 0.8199\n",
      "Epoch 86/100\n",
      "259/259 [==============================] - 0s 2ms/step - loss: 0.3991 - accuracy: 0.8225\n",
      "Epoch 87/100\n",
      "259/259 [==============================] - 0s 2ms/step - loss: 0.3989 - accuracy: 0.8218\n",
      "Epoch 88/100\n",
      "259/259 [==============================] - 0s 2ms/step - loss: 0.3995 - accuracy: 0.8213\n",
      "Epoch 89/100\n",
      "259/259 [==============================] - 0s 2ms/step - loss: 0.3982 - accuracy: 0.8191\n",
      "Epoch 90/100\n",
      "259/259 [==============================] - 0s 2ms/step - loss: 0.3987 - accuracy: 0.8217\n",
      "Epoch 91/100\n",
      "259/259 [==============================] - 0s 2ms/step - loss: 0.3983 - accuracy: 0.8232\n",
      "Epoch 92/100\n",
      "259/259 [==============================] - 0s 2ms/step - loss: 0.3972 - accuracy: 0.8199\n",
      "Epoch 93/100\n",
      "259/259 [==============================] - 0s 2ms/step - loss: 0.3977 - accuracy: 0.8211\n",
      "Epoch 94/100\n",
      "259/259 [==============================] - 1s 2ms/step - loss: 0.3969 - accuracy: 0.8224\n",
      "Epoch 95/100\n",
      "259/259 [==============================] - 0s 2ms/step - loss: 0.3965 - accuracy: 0.8203\n",
      "Epoch 96/100\n",
      "259/259 [==============================] - 0s 2ms/step - loss: 0.3970 - accuracy: 0.8214\n",
      "Epoch 97/100\n",
      "259/259 [==============================] - 0s 2ms/step - loss: 0.3966 - accuracy: 0.8238\n",
      "Epoch 98/100\n",
      "259/259 [==============================] - 0s 2ms/step - loss: 0.3954 - accuracy: 0.8248\n",
      "Epoch 99/100\n",
      "259/259 [==============================] - 0s 2ms/step - loss: 0.3955 - accuracy: 0.8248\n",
      "Epoch 100/100\n",
      "259/259 [==============================] - 0s 2ms/step - loss: 0.3944 - accuracy: 0.8245\n"
     ]
    },
    {
     "data": {
      "text/plain": [
       "<keras.callbacks.History at 0x7eb161ec2ec0>"
      ]
     },
     "execution_count": 46,
     "metadata": {},
     "output_type": "execute_result"
    }
   ],
   "source": [
    "import tensorflow as tf\n",
    "from tensorflow import keras\n",
    "\n",
    "model = keras.Sequential([\n",
    "    keras.layers.Dense(20, input_shape=(26,), activation='relu'),\n",
    "    keras.layers.Dense(1,activation='sigmoid'),\n",
    "])\n",
    "\n",
    "model.compile(optimizer='adam',\n",
    "              loss='binary_crossentropy',\n",
    "              metrics=['accuracy'])\n",
    "\n",
    "model.fit(X_train,y_train,epochs=100)"
   ]
  },
  {
   "cell_type": "code",
   "execution_count": 47,
   "id": "21249f35",
   "metadata": {
    "execution": {
     "iopub.execute_input": "2023-11-02T11:01:45.221768Z",
     "iopub.status.busy": "2023-11-02T11:01:45.221275Z",
     "iopub.status.idle": "2023-11-02T11:01:45.814800Z",
     "shell.execute_reply": "2023-11-02T11:01:45.812763Z"
    },
    "papermill": {
     "duration": 0.809048,
     "end_time": "2023-11-02T11:01:45.817941",
     "exception": false,
     "start_time": "2023-11-02T11:01:45.008893",
     "status": "completed"
    },
    "tags": []
   },
   "outputs": [
    {
     "name": "stdout",
     "output_type": "stream",
     "text": [
      "65/65 [==============================] - 0s 2ms/step - loss: 0.4341 - accuracy: 0.8006\n",
      "[0.4341287314891815, 0.8005808591842651]\n",
      "65/65 [==============================] - 0s 1ms/step\n",
      "Classification Report: \n",
      "               precision    recall  f1-score   support\n",
      "\n",
      "           0       0.81      0.79      0.80      1033\n",
      "           1       0.79      0.82      0.80      1033\n",
      "\n",
      "    accuracy                           0.80      2066\n",
      "   macro avg       0.80      0.80      0.80      2066\n",
      "weighted avg       0.80      0.80      0.80      2066\n",
      "\n"
     ]
    }
   ],
   "source": [
    "print(model.evaluate(X_test, y_test))\n",
    "    \n",
    "y_preds = model.predict(X_test)\n",
    "y_preds = np.round(y_preds)\n",
    "print(\"Classification Report: \\n\", classification_report(y_test, y_preds))\n",
    "    "
   ]
  }
 ],
 "metadata": {
  "kernelspec": {
   "display_name": "Python 3",
   "language": "python",
   "name": "python3"
  },
  "language_info": {
   "codemirror_mode": {
    "name": "ipython",
    "version": 3
   },
   "file_extension": ".py",
   "mimetype": "text/x-python",
   "name": "python",
   "nbconvert_exporter": "python",
   "pygments_lexer": "ipython3",
   "version": "3.10.12"
  },
  "papermill": {
   "default_parameters": {},
   "duration": 135.739449,
   "end_time": "2023-11-02T11:01:49.089866",
   "environment_variables": {},
   "exception": null,
   "input_path": "__notebook__.ipynb",
   "output_path": "__notebook__.ipynb",
   "parameters": {},
   "start_time": "2023-11-02T10:59:33.350417",
   "version": "2.4.0"
  }
 },
 "nbformat": 4,
 "nbformat_minor": 5
}
