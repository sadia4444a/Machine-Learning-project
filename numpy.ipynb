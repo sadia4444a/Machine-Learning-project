{
  "nbformat": 4,
  "nbformat_minor": 0,
  "metadata": {
    "colab": {
      "provenance": [],
      "authorship_tag": "ABX9TyPwwModTKOW0NS/1BhNnXo1",
      "include_colab_link": true
    },
    "kernelspec": {
      "name": "python3",
      "display_name": "Python 3"
    },
    "language_info": {
      "name": "python"
    }
  },
  "cells": [
    {
      "cell_type": "markdown",
      "metadata": {
        "id": "view-in-github",
        "colab_type": "text"
      },
      "source": [
        "<a href=\"https://colab.research.google.com/github/sadia4444a/Machine-Learning-project/blob/main/numpy.ipynb\" target=\"_parent\"><img src=\"https://colab.research.google.com/assets/colab-badge.svg\" alt=\"Open In Colab\"/></a>"
      ]
    },
    {
      "cell_type": "code",
      "execution_count": 2,
      "metadata": {
        "id": "Iso_9ywleiTZ"
      },
      "outputs": [],
      "source": [
        "import numpy as np\n"
      ]
    },
    {
      "cell_type": "code",
      "source": [
        "from time import process_time"
      ],
      "metadata": {
        "id": "eym_eFldevZz"
      },
      "execution_count": 3,
      "outputs": []
    },
    {
      "cell_type": "code",
      "source": [
        "np_arry=np.array([i for i in range(100000)])\n",
        "\n",
        "start_time=process_time()\n",
        "\n",
        "np_arry+=5\n",
        "\n",
        "end_time = process_time()\n",
        "\n",
        "print(end_time-start_time)"
      ],
      "metadata": {
        "colab": {
          "base_uri": "https://localhost:8080/"
        },
        "id": "dsFDoYxVfhVk",
        "outputId": "02d586da-8e88-430f-991d-99112ddf6a0d"
      },
      "execution_count": 5,
      "outputs": [
        {
          "output_type": "stream",
          "name": "stdout",
          "text": [
            "0.00041141199999983336\n"
          ]
        }
      ]
    },
    {
      "cell_type": "code",
      "source": [
        "#list\n",
        "\n",
        "list1=[1,2,3,4,5,6]\n",
        "print(list1)\n",
        "print(type(list1))"
      ],
      "metadata": {
        "colab": {
          "base_uri": "https://localhost:8080/"
        },
        "id": "P8vSkUf9gCeP",
        "outputId": "4f6c6265-bfa4-46cc-93ce-621c05894405"
      },
      "execution_count": 6,
      "outputs": [
        {
          "output_type": "stream",
          "name": "stdout",
          "text": [
            "[1, 2, 3, 4, 5, 6]\n",
            "<class 'list'>\n"
          ]
        }
      ]
    },
    {
      "cell_type": "markdown",
      "source": [
        "numpy arrays\n"
      ],
      "metadata": {
        "id": "FKDVqRDPgTmr"
      }
    },
    {
      "cell_type": "code",
      "source": [
        "np_array=np.array([1,2,3,4,5,6,7])\n",
        "print(np_array)\n",
        "type(np_array)\n",
        "np_array.shape"
      ],
      "metadata": {
        "colab": {
          "base_uri": "https://localhost:8080/"
        },
        "id": "RxzmrW6cgwsH",
        "outputId": "745799cc-fc5b-410e-b7f7-88a4affcb475"
      },
      "execution_count": 7,
      "outputs": [
        {
          "output_type": "stream",
          "name": "stdout",
          "text": [
            "[1 2 3 4 5 6 7]\n"
          ]
        },
        {
          "output_type": "execute_result",
          "data": {
            "text/plain": [
              "(7,)"
            ]
          },
          "metadata": {},
          "execution_count": 7
        }
      ]
    },
    {
      "cell_type": "code",
      "source": [
        "#creating tow dimension array\n",
        "\n",
        "b=np.array([(1,2,3,4),(5,6,7,8),(8,9,7,6),(3,5,4,5)])\n",
        "print(b)\n",
        "type(b)\n",
        "b.shape"
      ],
      "metadata": {
        "colab": {
          "base_uri": "https://localhost:8080/"
        },
        "id": "Cf-iRjcVg7wA",
        "outputId": "ff10967c-e451-45e0-f501-5b14396156b7"
      },
      "execution_count": 8,
      "outputs": [
        {
          "output_type": "stream",
          "name": "stdout",
          "text": [
            "[[1 2 3 4]\n",
            " [5 6 7 8]\n",
            " [8 9 7 6]\n",
            " [3 5 4 5]]\n"
          ]
        },
        {
          "output_type": "execute_result",
          "data": {
            "text/plain": [
              "(4, 4)"
            ]
          },
          "metadata": {},
          "execution_count": 8
        }
      ]
    },
    {
      "cell_type": "code",
      "source": [
        "c=np.array([(1,2,3,4),(7.4,7.9,9.8,12.4)],dtype=float)\n",
        "print(c)"
      ],
      "metadata": {
        "colab": {
          "base_uri": "https://localhost:8080/"
        },
        "id": "8_VbRBrhht8U",
        "outputId": "f85cae68-7973-4bc4-ef1e-c0a133e7b1b9"
      },
      "execution_count": 9,
      "outputs": [
        {
          "output_type": "stream",
          "name": "stdout",
          "text": [
            "[[ 1.   2.   3.   4. ]\n",
            " [ 7.4  7.9  9.8 12.4]]\n"
          ]
        }
      ]
    },
    {
      "cell_type": "code",
      "source": [
        "x=np.zeros((4,5))\n",
        "print(x)"
      ],
      "metadata": {
        "id": "1BU7ul3EiJa7",
        "colab": {
          "base_uri": "https://localhost:8080/"
        },
        "outputId": "a7057cbc-1762-44b3-bd25-1eb3ca0ee47e"
      },
      "execution_count": 10,
      "outputs": [
        {
          "output_type": "stream",
          "name": "stdout",
          "text": [
            "[[0. 0. 0. 0. 0.]\n",
            " [0. 0. 0. 0. 0.]\n",
            " [0. 0. 0. 0. 0.]\n",
            " [0. 0. 0. 0. 0.]]\n"
          ]
        }
      ]
    },
    {
      "cell_type": "code",
      "source": [
        "y=np.ones((5,6))\n",
        "print(y)"
      ],
      "metadata": {
        "colab": {
          "base_uri": "https://localhost:8080/"
        },
        "id": "ZtEZpevVD5xM",
        "outputId": "8b620762-eb6c-4c54-e2cc-f0cd04071109"
      },
      "execution_count": 11,
      "outputs": [
        {
          "output_type": "stream",
          "name": "stdout",
          "text": [
            "[[1. 1. 1. 1. 1. 1.]\n",
            " [1. 1. 1. 1. 1. 1.]\n",
            " [1. 1. 1. 1. 1. 1.]\n",
            " [1. 1. 1. 1. 1. 1.]\n",
            " [1. 1. 1. 1. 1. 1.]]\n"
          ]
        }
      ]
    },
    {
      "cell_type": "code",
      "source": [
        "z=np.full((5,10),5)\n",
        "print(z)"
      ],
      "metadata": {
        "colab": {
          "base_uri": "https://localhost:8080/"
        },
        "id": "i8nEFoLPD_ia",
        "outputId": "07af5b5a-7b7a-4469-d7c0-703ea4bbccf5"
      },
      "execution_count": 12,
      "outputs": [
        {
          "output_type": "stream",
          "name": "stdout",
          "text": [
            "[[5 5 5 5 5 5 5 5 5 5]\n",
            " [5 5 5 5 5 5 5 5 5 5]\n",
            " [5 5 5 5 5 5 5 5 5 5]\n",
            " [5 5 5 5 5 5 5 5 5 5]\n",
            " [5 5 5 5 5 5 5 5 5 5]]\n"
          ]
        }
      ]
    },
    {
      "cell_type": "code",
      "source": [
        "a=np.eye(6)\n",
        "print(a)"
      ],
      "metadata": {
        "colab": {
          "base_uri": "https://localhost:8080/"
        },
        "id": "DWoHjQC3ENod",
        "outputId": "3275c8db-c239-47bd-9fb1-2a39cdda33ef"
      },
      "execution_count": 13,
      "outputs": [
        {
          "output_type": "stream",
          "name": "stdout",
          "text": [
            "[[1. 0. 0. 0. 0. 0.]\n",
            " [0. 1. 0. 0. 0. 0.]\n",
            " [0. 0. 1. 0. 0. 0.]\n",
            " [0. 0. 0. 1. 0. 0.]\n",
            " [0. 0. 0. 0. 1. 0.]\n",
            " [0. 0. 0. 0. 0. 1.]]\n"
          ]
        }
      ]
    },
    {
      "cell_type": "code",
      "source": [
        "b=np.random.random((3,4))\n",
        "print(b)"
      ],
      "metadata": {
        "colab": {
          "base_uri": "https://localhost:8080/"
        },
        "id": "G2O-_zgkE56m",
        "outputId": "98021864-e70a-47a5-c4df-0dc004637488"
      },
      "execution_count": 14,
      "outputs": [
        {
          "output_type": "stream",
          "name": "stdout",
          "text": [
            "[[0.06047425 0.45129556 0.8954331  0.65715641]\n",
            " [0.77903001 0.17702248 0.0565324  0.83169232]\n",
            " [0.45206194 0.22091932 0.47466961 0.34873418]]\n"
          ]
        }
      ]
    },
    {
      "cell_type": "code",
      "source": [
        "c = np.random.randint(10,100,(6,9))\n",
        "print(c)"
      ],
      "metadata": {
        "colab": {
          "base_uri": "https://localhost:8080/"
        },
        "id": "yUZZ-v2NFDcW",
        "outputId": "c6114650-9d62-402f-d850-2409cca745c4"
      },
      "execution_count": 15,
      "outputs": [
        {
          "output_type": "stream",
          "name": "stdout",
          "text": [
            "[[59 96 95 62 49 76 10 70 40]\n",
            " [34 93 70 29 31 24 32 28 29]\n",
            " [77 68 75 57 18 26 56 35 76]\n",
            " [48 42 66 58 10 96 68 40 33]\n",
            " [73 92 90 66 15 88 64 77 87]\n",
            " [77 69 40 17 67 87 11 69 68]]\n"
          ]
        }
      ]
    },
    {
      "cell_type": "code",
      "source": [
        "d=np.linspace(10,30,5)\n",
        "print(d)"
      ],
      "metadata": {
        "colab": {
          "base_uri": "https://localhost:8080/"
        },
        "id": "Mh_KJGnUFbEO",
        "outputId": "01789ed8-7a54-4f6b-ddd4-64fc7ece4a6d"
      },
      "execution_count": 16,
      "outputs": [
        {
          "output_type": "stream",
          "name": "stdout",
          "text": [
            "[10. 15. 20. 25. 30.]\n"
          ]
        }
      ]
    },
    {
      "cell_type": "code",
      "source": [
        "e=np.arange(10,30,5)\n",
        "print(e)"
      ],
      "metadata": {
        "colab": {
          "base_uri": "https://localhost:8080/"
        },
        "id": "I76H9D73GGCS",
        "outputId": "ec858991-689c-4aa3-a1ad-28e19deb2f98"
      },
      "execution_count": 17,
      "outputs": [
        {
          "output_type": "stream",
          "name": "stdout",
          "text": [
            "[10 15 20 25]\n"
          ]
        }
      ]
    },
    {
      "cell_type": "code",
      "source": [
        "python_list=[i for i in range(100000)]\n",
        "\n",
        "start_time=process_time()\n",
        "\n",
        "python_list=[i+5 for i in python_list]\n",
        "\n",
        "end_time = process_time()\n",
        "\n",
        "print(end_time-start_time)"
      ],
      "metadata": {
        "colab": {
          "base_uri": "https://localhost:8080/"
        },
        "id": "leNTrjFKe0DL",
        "outputId": "56d1b09b-7258-4620-d903-a2937c914617"
      },
      "execution_count": 18,
      "outputs": [
        {
          "output_type": "stream",
          "name": "stdout",
          "text": [
            "0.012040692000000242\n"
          ]
        }
      ]
    },
    {
      "cell_type": "code",
      "source": [
        "list2=[1,2,3,4,5]\n",
        "list1=np.asarray(list2)\n",
        "print(list1)"
      ],
      "metadata": {
        "colab": {
          "base_uri": "https://localhost:8080/"
        },
        "id": "RD0pK5uqGWdz",
        "outputId": "871e2194-6699-4910-8601-3b0539071b42"
      },
      "execution_count": 19,
      "outputs": [
        {
          "output_type": "stream",
          "name": "stdout",
          "text": [
            "[1 2 3 4 5]\n"
          ]
        }
      ]
    },
    {
      "cell_type": "code",
      "source": [
        "c=np.random.randint(10,90,(10,10))\n",
        "print(c)"
      ],
      "metadata": {
        "colab": {
          "base_uri": "https://localhost:8080/"
        },
        "id": "mHUinSpNGtil",
        "outputId": "4859f354-340f-4976-8bf2-e3b2f00dfbef"
      },
      "execution_count": 20,
      "outputs": [
        {
          "output_type": "stream",
          "name": "stdout",
          "text": [
            "[[66 88 84 10 23 65 70 59 15 27]\n",
            " [70 29 27 21 31 12 63 41 72 28]\n",
            " [40 59 81 15 59 57 89 17 23 16]\n",
            " [74 77 87 30 24 38 11 29 54 70]\n",
            " [83 67 42 46 32 23 53 84 29 53]\n",
            " [80 80 29 51 49 47 30 30 61 10]\n",
            " [32 47 47 32 44 16 85 36 34 48]\n",
            " [84 42 50 59 66 27 38 73 58 87]\n",
            " [38 76 33 34 63 21 74 45 13 53]\n",
            " [88 46 15 42 73 22 48 89 11 60]]\n"
          ]
        }
      ]
    },
    {
      "cell_type": "code",
      "source": [
        "print(c.shape)\n"
      ],
      "metadata": {
        "colab": {
          "base_uri": "https://localhost:8080/"
        },
        "id": "5KncbvzHG9vT",
        "outputId": "b48c054d-0175-4cb3-fba7-3240b0c3d157"
      },
      "execution_count": 21,
      "outputs": [
        {
          "output_type": "stream",
          "name": "stdout",
          "text": [
            "(10, 10)\n"
          ]
        }
      ]
    },
    {
      "cell_type": "code",
      "source": [
        "print(c.ndim)"
      ],
      "metadata": {
        "colab": {
          "base_uri": "https://localhost:8080/"
        },
        "id": "Ar_84k36XHiX",
        "outputId": "3d44248c-0629-4457-e53e-9b42d3d045fe"
      },
      "execution_count": 22,
      "outputs": [
        {
          "output_type": "stream",
          "name": "stdout",
          "text": [
            "2\n"
          ]
        }
      ]
    },
    {
      "cell_type": "code",
      "source": [
        "print(c.size)"
      ],
      "metadata": {
        "colab": {
          "base_uri": "https://localhost:8080/"
        },
        "id": "NW1BpZ5AXKr6",
        "outputId": "e7598ac4-e6c9-48d9-ad5a-d8ec0fc717ce"
      },
      "execution_count": 23,
      "outputs": [
        {
          "output_type": "stream",
          "name": "stdout",
          "text": [
            "100\n"
          ]
        }
      ]
    },
    {
      "cell_type": "code",
      "source": [
        "print(c.dtype)"
      ],
      "metadata": {
        "colab": {
          "base_uri": "https://localhost:8080/"
        },
        "id": "dCraf19aXQ7G",
        "outputId": "bb31d7e5-8d0a-4607-cbdf-c7c908d4c29f"
      },
      "execution_count": 24,
      "outputs": [
        {
          "output_type": "stream",
          "name": "stdout",
          "text": [
            "int64\n"
          ]
        }
      ]
    },
    {
      "cell_type": "code",
      "source": [
        "list1=[1,2,3,4,5]\n",
        "list2=[6,7,8,9,10]\n",
        "print(list1+list2)"
      ],
      "metadata": {
        "colab": {
          "base_uri": "https://localhost:8080/"
        },
        "id": "CSv_K38lXbqW",
        "outputId": "c6280805-1cad-469b-c561-57bc43461dda"
      },
      "execution_count": 25,
      "outputs": [
        {
          "output_type": "stream",
          "name": "stdout",
          "text": [
            "[1, 2, 3, 4, 5, 6, 7, 8, 9, 10]\n"
          ]
        }
      ]
    },
    {
      "cell_type": "code",
      "source": [
        "a=np.random.randint(0,10,(3,3))\n",
        "b=np.random.randint(10,20,(3,3))"
      ],
      "metadata": {
        "id": "jcrgdVbkXxH1"
      },
      "execution_count": 26,
      "outputs": []
    },
    {
      "cell_type": "code",
      "source": [
        "print(a)\n",
        "print(b)"
      ],
      "metadata": {
        "colab": {
          "base_uri": "https://localhost:8080/"
        },
        "id": "NLLNAOuFYHVn",
        "outputId": "93795911-1067-4bd8-ea85-5bfabf799b34"
      },
      "execution_count": 27,
      "outputs": [
        {
          "output_type": "stream",
          "name": "stdout",
          "text": [
            "[[1 1 3]\n",
            " [6 3 3]\n",
            " [5 3 8]]\n",
            "[[19 16 14]\n",
            " [16 15 19]\n",
            " [10 17 12]]\n"
          ]
        }
      ]
    },
    {
      "cell_type": "code",
      "source": [
        "print(a+b)\n",
        "print(a-b)\n",
        "print(a*b)\n",
        "print(a/b)"
      ],
      "metadata": {
        "colab": {
          "base_uri": "https://localhost:8080/"
        },
        "id": "oRRuq00zYKA4",
        "outputId": "e34c2832-baaa-45b8-9323-f8209c82a77f"
      },
      "execution_count": 29,
      "outputs": [
        {
          "output_type": "stream",
          "name": "stdout",
          "text": [
            "[[20 17 17]\n",
            " [22 18 22]\n",
            " [15 20 20]]\n",
            "[[-18 -15 -11]\n",
            " [-10 -12 -16]\n",
            " [ -5 -14  -4]]\n",
            "[[19 16 42]\n",
            " [96 45 57]\n",
            " [50 51 96]]\n",
            "[[0.05263158 0.0625     0.21428571]\n",
            " [0.375      0.2        0.15789474]\n",
            " [0.5        0.17647059 0.66666667]]\n"
          ]
        }
      ]
    },
    {
      "cell_type": "code",
      "source": [
        "a=np.random.randint(0,10,(3,3))\n",
        "b=np.random.randint(10,20,(3,3))"
      ],
      "metadata": {
        "id": "KpFrJKuHYQHb"
      },
      "execution_count": 30,
      "outputs": []
    },
    {
      "cell_type": "code",
      "source": [
        "print(np.add(a,b))\n",
        "print(np.subtract(a,b))\n",
        "print(np.multiply(a,b))\n",
        "print(np.divide(a,b))"
      ],
      "metadata": {
        "colab": {
          "base_uri": "https://localhost:8080/"
        },
        "id": "dV9JcCs4YqcI",
        "outputId": "20f83634-4470-454d-8516-0727002f5a10"
      },
      "execution_count": 32,
      "outputs": [
        {
          "output_type": "stream",
          "name": "stdout",
          "text": [
            "[[27 23 16]\n",
            " [19 13 21]\n",
            " [21 18 24]]\n",
            "[[-11 -15 -10]\n",
            " [-11 -13 -17]\n",
            " [-11 -10  -6]]\n",
            "[[152  76  39]\n",
            " [ 60   0  38]\n",
            " [ 80  56 135]]\n",
            "[[0.42105263 0.21052632 0.23076923]\n",
            " [0.26666667 0.         0.10526316]\n",
            " [0.3125     0.28571429 0.6       ]]\n"
          ]
        }
      ]
    },
    {
      "cell_type": "code",
      "source": [
        "ar=np.random.randint(0,10,(2,3))\n",
        "print(ar)\n",
        "print(ar.shape)"
      ],
      "metadata": {
        "colab": {
          "base_uri": "https://localhost:8080/"
        },
        "id": "2QIxQKYtYtoX",
        "outputId": "ac957782-1ec8-4bae-b50c-702a517ffbc5"
      },
      "execution_count": 34,
      "outputs": [
        {
          "output_type": "stream",
          "name": "stdout",
          "text": [
            "[[1 9 1]\n",
            " [0 7 1]]\n",
            "(2, 3)\n"
          ]
        }
      ]
    },
    {
      "cell_type": "code",
      "source": [
        "trans=np.transpose(ar)\n",
        "print(trans)\n"
      ],
      "metadata": {
        "colab": {
          "base_uri": "https://localhost:8080/"
        },
        "id": "L4Jv-GJzZTE0",
        "outputId": "f6428068-8916-4886-808a-67cf8e4a3bd2"
      },
      "execution_count": 36,
      "outputs": [
        {
          "output_type": "stream",
          "name": "stdout",
          "text": [
            "[[1 0]\n",
            " [9 7]\n",
            " [1 1]]\n"
          ]
        }
      ]
    },
    {
      "cell_type": "code",
      "source": [
        "trans2=ar.T\n",
        "print(trans2)"
      ],
      "metadata": {
        "colab": {
          "base_uri": "https://localhost:8080/"
        },
        "id": "Evj5ujXGZkrg",
        "outputId": "2ea06f7a-8efd-4572-c09e-be17ff276afd"
      },
      "execution_count": 37,
      "outputs": [
        {
          "output_type": "stream",
          "name": "stdout",
          "text": [
            "[[1 0]\n",
            " [9 7]\n",
            " [1 1]]\n"
          ]
        }
      ]
    },
    {
      "cell_type": "code",
      "source": [
        "a=np.random.randint(0,10,(2,3))\n",
        "print(a)\n",
        "print(a.shape)"
      ],
      "metadata": {
        "colab": {
          "base_uri": "https://localhost:8080/"
        },
        "id": "nZMfR8ZYZ4Bt",
        "outputId": "3ce77f89-f2eb-4312-bcbb-216823e8c40e"
      },
      "execution_count": 38,
      "outputs": [
        {
          "output_type": "stream",
          "name": "stdout",
          "text": [
            "[[8 8 6]\n",
            " [2 7 1]]\n",
            "(2, 3)\n"
          ]
        }
      ]
    },
    {
      "cell_type": "code",
      "source": [
        "b=a.reshape(3,2)\n",
        "print(b)"
      ],
      "metadata": {
        "colab": {
          "base_uri": "https://localhost:8080/"
        },
        "id": "7wR5d4oFaC4N",
        "outputId": "daa46f91-30e8-412b-8ab6-a8cd569b74d0"
      },
      "execution_count": 40,
      "outputs": [
        {
          "output_type": "stream",
          "name": "stdout",
          "text": [
            "[[8 8]\n",
            " [6 2]\n",
            " [7 1]]\n"
          ]
        }
      ]
    },
    {
      "cell_type": "code",
      "source": [],
      "metadata": {
        "id": "I9GJhKkraGzm"
      },
      "execution_count": null,
      "outputs": []
    }
  ]
}